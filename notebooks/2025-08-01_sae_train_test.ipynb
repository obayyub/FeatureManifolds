{
 "cells": [
  {
   "cell_type": "code",
   "execution_count": 2,
   "id": "e508c992",
   "metadata": {},
   "outputs": [
    {
     "name": "stdout",
     "output_type": "stream",
     "text": [
      "The autoreload extension is already loaded. To reload it, use:\n",
      "  %reload_ext autoreload\n"
     ]
    }
   ],
   "source": [
    "%load_ext autoreload\n",
    "%autoreload 2\n",
    "import featureman.gen_data as man\n",
    "import torch\n",
    "import torch.nn as nn\n",
    "import numpy as np\n",
    "device = torch.device(\"cuda\" if torch.cuda.is_available() else \"cpu\")"
   ]
  },
  {
   "cell_type": "code",
   "execution_count": 5,
   "id": "b1da6848",
   "metadata": {},
   "outputs": [
    {
     "data": {
      "text/plain": [
       "<All keys matched successfully>"
      ]
     },
     "execution_count": 5,
     "metadata": {},
     "output_type": "execute_result"
    }
   ],
   "source": [
    "\n",
    "model_dict = torch.load(\"modular_arithmetic_model.pth\", map_location=device)\n",
    "model = man.OneLayerTransformer(p=113, d_model=128, nheads=4).to(device)\n",
    "model.load_state_dict(model_dict)"
   ]
  },
  {
   "cell_type": "code",
   "execution_count": 6,
   "id": "abd29845",
   "metadata": {},
   "outputs": [
    {
     "name": "stdout",
     "output_type": "stream",
     "text": [
      "torch.Size([12769, 4])\n"
     ]
    }
   ],
   "source": [
    "torch.manual_seed(1337)\n",
    "# generate combination of all inputs a and b range (113)\n",
    "a = np.arange(113)\n",
    "b = np.arange(113)\n",
    "# generate inputs for the model\n",
    "inputs = np.array([[a_i, 113, b_i, 114] for a_i in a for b_i in b])\n",
    "inputs = torch.tensor(inputs).to(device)  # Add batch dimension\n",
    "print(inputs.shape)\n",
    "logits, activations = model(inputs, return_activations=True)"
   ]
  },
  {
   "cell_type": "code",
   "execution_count": 7,
   "id": "2b1d6d7d",
   "metadata": {},
   "outputs": [
    {
     "data": {
      "text/plain": [
       "tensor([[0.6279, 0.0000, 0.0483,  ..., 0.9191, 0.2596, 0.4742],\n",
       "        [0.0000, 1.3565, 0.0000,  ..., 0.0000, 0.0000, 0.0000],\n",
       "        [0.3152, 0.0000, 0.1177,  ..., 0.0000, 0.0287, 0.6013],\n",
       "        ...,\n",
       "        [0.0000, 0.0000, 0.1213,  ..., 0.6463, 0.0972, 0.6923],\n",
       "        [0.5849, 0.0000, 0.0743,  ..., 0.0000, 0.0000, 0.6800],\n",
       "        [0.3997, 0.5107, 0.0062,  ..., 0.0000, 0.0505, 0.0000]])"
      ]
     },
     "execution_count": 7,
     "metadata": {},
     "output_type": "execute_result"
    }
   ],
   "source": [
    "activations_data = activations[:, -1, :] #shape [n_samples, d_model]\n",
    "activations_data = activations_data.detach().cpu()\n",
    "#shuffle and split\n",
    "indices = torch.randperm(activations_data.shape[0])\n",
    "n_samples = activations_data.shape[0]\n",
    "split_idx = int(0.8 * n_samples)\n",
    "train_indices = indices[:split_idx]\n",
    "test_indices = indices[split_idx:]\n",
    "\n",
    "activations_train = activations_data[train_indices]\n",
    "activations_test = activations_data[test_indices]\n",
    "# to created batched version just repeat 5 times stacked\n",
    "\n",
    "batched_acts = activations_train.unsqueeze(0).repeat(5, 1, 1).to(device)\n",
    "\n",
    "activations_train"
   ]
  },
  {
   "cell_type": "code",
   "execution_count": 209,
   "id": "f67d4992",
   "metadata": {},
   "outputs": [
    {
     "name": "stderr",
     "output_type": "stream",
     "text": [
      "<string>:7: UserWarning: To copy construct from a tensor, it is recommended to use sourceTensor.detach().clone() or sourceTensor.detach().clone().requires_grad_(True), rather than torch.tensor(sourceTensor).\n"
     ]
    },
    {
     "name": "stdout",
     "output_type": "stream",
     "text": [
      "Model 0, Epoch 0, Loss: 0.8656, MSE: 0.8656, L1: 0.0000, L0: 1717.5616\n",
      "Model 1, Epoch 0, Loss: 0.9174, MSE: 0.9174, L1: 0.0000, L0: 1730.8091\n",
      "Model 2, Epoch 0, Loss: 0.8293, MSE: 0.8293, L1: 0.0000, L0: 1716.1100\n",
      "Model 3, Epoch 0, Loss: 0.8203, MSE: 0.8203, L1: 0.0000, L0: 1715.1174\n",
      "Model 4, Epoch 0, Loss: 0.8212, MSE: 0.8212, L1: 0.0000, L0: 1715.1799\n",
      "Model 0, Epoch 10, Loss: 0.0263, MSE: 0.0263, L1: 0.1978, L0: 526.2392\n",
      "Model 1, Epoch 10, Loss: 0.0445, MSE: 0.0445, L1: 0.3621, L0: 527.5432\n",
      "Model 2, Epoch 10, Loss: 0.0737, MSE: 0.0737, L1: 0.5037, L0: 181.1730\n",
      "Model 3, Epoch 10, Loss: 0.1104, MSE: 0.1104, L1: 0.6326, L0: 134.2761\n",
      "Model 4, Epoch 10, Loss: 0.1495, MSE: 0.1495, L1: 0.7396, L0: 112.7249\n",
      "Model 0, Epoch 20, Loss: 0.0361, MSE: 0.0361, L1: 0.3470, L0: 338.1864\n",
      "Model 1, Epoch 20, Loss: 0.0921, MSE: 0.0921, L1: 0.6212, L0: 380.1906\n",
      "Model 2, Epoch 20, Loss: 0.1668, MSE: 0.1668, L1: 0.8239, L0: 73.7232\n",
      "Model 3, Epoch 20, Loss: 0.2591, MSE: 0.2591, L1: 0.9726, L0: 33.6744\n",
      "Model 4, Epoch 20, Loss: 0.3610, MSE: 0.3610, L1: 1.0998, L0: 30.4263\n",
      "Model 0, Epoch 30, Loss: 0.0423, MSE: 0.0423, L1: 0.4126, L0: 360.9352\n",
      "Model 1, Epoch 30, Loss: 0.1208, MSE: 0.1208, L1: 0.7132, L0: 353.1736\n",
      "Model 2, Epoch 30, Loss: 0.2246, MSE: 0.2246, L1: 0.9188, L0: 51.2024\n",
      "Model 3, Epoch 30, Loss: 0.3578, MSE: 0.3578, L1: 1.0652, L0: 24.7759\n",
      "Model 4, Epoch 30, Loss: 0.5096, MSE: 0.5096, L1: 1.1615, L0: 26.3483\n",
      "Model 0, Epoch 40, Loss: 0.0406, MSE: 0.0406, L1: 0.4046, L0: 396.4631\n",
      "Model 1, Epoch 40, Loss: 0.1156, MSE: 0.1156, L1: 0.6933, L0: 353.0984\n",
      "Model 2, Epoch 40, Loss: 0.2170, MSE: 0.2170, L1: 0.9028, L0: 48.9828\n",
      "Model 3, Epoch 40, Loss: 0.3523, MSE: 0.3523, L1: 1.0377, L0: 24.2026\n",
      "Model 4, Epoch 40, Loss: 0.5017, MSE: 0.5017, L1: 1.1201, L0: 26.1977\n",
      "Model 0, Epoch 50, Loss: 0.0393, MSE: 0.0393, L1: 0.3969, L0: 445.3093\n",
      "Model 1, Epoch 50, Loss: 0.1116, MSE: 0.1116, L1: 0.6786, L0: 349.3340\n",
      "Model 2, Epoch 50, Loss: 0.2103, MSE: 0.2103, L1: 0.8884, L0: 48.6033\n",
      "Model 3, Epoch 50, Loss: 0.3452, MSE: 0.3452, L1: 1.0086, L0: 24.2616\n",
      "Model 4, Epoch 50, Loss: 0.4928, MSE: 0.4928, L1: 1.0857, L0: 26.4960\n",
      "Model 0, Epoch 60, Loss: 0.0390, MSE: 0.0390, L1: 0.3900, L0: 487.1914\n",
      "Model 1, Epoch 60, Loss: 0.1093, MSE: 0.1093, L1: 0.6620, L0: 350.2540\n",
      "Model 2, Epoch 60, Loss: 0.2060, MSE: 0.2060, L1: 0.8743, L0: 50.5250\n",
      "Model 3, Epoch 60, Loss: 0.3384, MSE: 0.3384, L1: 0.9811, L0: 23.5381\n",
      "Model 4, Epoch 60, Loss: 0.4853, MSE: 0.4853, L1: 1.0530, L0: 26.5098\n",
      "Model 0, Epoch 70, Loss: 0.0393, MSE: 0.0393, L1: 0.3792, L0: 502.7176\n",
      "Model 1, Epoch 70, Loss: 0.1081, MSE: 0.1081, L1: 0.6461, L0: 342.0659\n",
      "Model 2, Epoch 70, Loss: 0.2016, MSE: 0.2016, L1: 0.8591, L0: 52.2989\n",
      "Model 3, Epoch 70, Loss: 0.3326, MSE: 0.3326, L1: 0.9576, L0: 23.0678\n",
      "Model 4, Epoch 70, Loss: 0.4786, MSE: 0.4786, L1: 1.0247, L0: 25.7629\n",
      "Model 0, Epoch 80, Loss: 0.0401, MSE: 0.0401, L1: 0.3667, L0: 507.0401\n",
      "Model 1, Epoch 80, Loss: 0.1067, MSE: 0.1067, L1: 0.6305, L0: 322.9460\n",
      "Model 2, Epoch 80, Loss: 0.1993, MSE: 0.1993, L1: 0.8423, L0: 53.6022\n",
      "Model 3, Epoch 80, Loss: 0.3289, MSE: 0.3289, L1: 0.9363, L0: 23.3102\n",
      "Model 4, Epoch 80, Loss: 0.4747, MSE: 0.4747, L1: 0.9987, L0: 24.9884\n",
      "Model 0, Epoch 90, Loss: 0.0408, MSE: 0.0408, L1: 0.3544, L0: 499.7839\n",
      "Model 1, Epoch 90, Loss: 0.1046, MSE: 0.1046, L1: 0.6151, L0: 292.3784\n",
      "Model 2, Epoch 90, Loss: 0.1967, MSE: 0.1967, L1: 0.8280, L0: 57.7698\n",
      "Model 3, Epoch 90, Loss: 0.3247, MSE: 0.3247, L1: 0.9173, L0: 24.2403\n",
      "Model 4, Epoch 90, Loss: 0.4697, MSE: 0.4697, L1: 0.9761, L0: 24.3294\n",
      "Model 0, Epoch 100, Loss: 0.0417, MSE: 0.0417, L1: 0.3421, L0: 484.0906\n",
      "Model 1, Epoch 100, Loss: 0.1037, MSE: 0.1037, L1: 0.6007, L0: 271.1560\n",
      "Model 2, Epoch 100, Loss: 0.1952, MSE: 0.1952, L1: 0.8111, L0: 60.5436\n",
      "Model 3, Epoch 100, Loss: 0.3224, MSE: 0.3224, L1: 0.8982, L0: 25.0876\n",
      "Model 4, Epoch 100, Loss: 0.4657, MSE: 0.4657, L1: 0.9551, L0: 23.6578\n",
      "Model 0, Epoch 110, Loss: 0.0423, MSE: 0.0423, L1: 0.3312, L0: 461.2420\n",
      "Model 1, Epoch 110, Loss: 0.1033, MSE: 0.1033, L1: 0.5871, L0: 257.2245\n",
      "Model 2, Epoch 110, Loss: 0.1941, MSE: 0.1941, L1: 0.7932, L0: 62.4674\n",
      "Model 3, Epoch 110, Loss: 0.3195, MSE: 0.3195, L1: 0.8806, L0: 25.7085\n",
      "Model 4, Epoch 110, Loss: 0.4619, MSE: 0.4619, L1: 0.9363, L0: 23.0170\n",
      "Model 0, Epoch 120, Loss: 0.0430, MSE: 0.0430, L1: 0.3231, L0: 438.2997\n",
      "Model 1, Epoch 120, Loss: 0.1029, MSE: 0.1029, L1: 0.5739, L0: 244.8468\n",
      "Model 2, Epoch 120, Loss: 0.1930, MSE: 0.1930, L1: 0.7757, L0: 63.2080\n",
      "Model 3, Epoch 120, Loss: 0.3172, MSE: 0.3172, L1: 0.8645, L0: 26.6662\n",
      "Model 4, Epoch 120, Loss: 0.4586, MSE: 0.4586, L1: 0.9184, L0: 22.2966\n",
      "Model 0, Epoch 130, Loss: 0.0435, MSE: 0.0435, L1: 0.3173, L0: 425.2974\n",
      "Model 1, Epoch 130, Loss: 0.1018, MSE: 0.1018, L1: 0.5626, L0: 234.1110\n",
      "Model 2, Epoch 130, Loss: 0.1918, MSE: 0.1918, L1: 0.7601, L0: 63.9716\n",
      "Model 3, Epoch 130, Loss: 0.3151, MSE: 0.3151, L1: 0.8495, L0: 26.9538\n",
      "Model 4, Epoch 130, Loss: 0.4546, MSE: 0.4546, L1: 0.9033, L0: 21.5714\n",
      "Model 0, Epoch 140, Loss: 0.0441, MSE: 0.0441, L1: 0.3122, L0: 415.3376\n",
      "Model 1, Epoch 140, Loss: 0.1007, MSE: 0.1007, L1: 0.5522, L0: 223.8100\n",
      "Model 2, Epoch 140, Loss: 0.1900, MSE: 0.1900, L1: 0.7451, L0: 65.0171\n",
      "Model 3, Epoch 140, Loss: 0.3134, MSE: 0.3134, L1: 0.8354, L0: 26.7683\n",
      "Model 4, Epoch 140, Loss: 0.4506, MSE: 0.4506, L1: 0.8895, L0: 20.8623\n",
      "Model 0, Epoch 150, Loss: 0.0446, MSE: 0.0446, L1: 0.3078, L0: 409.2141\n",
      "Model 1, Epoch 150, Loss: 0.0998, MSE: 0.0998, L1: 0.5429, L0: 215.6654\n",
      "Model 2, Epoch 150, Loss: 0.1891, MSE: 0.1891, L1: 0.7324, L0: 66.8353\n",
      "Model 3, Epoch 150, Loss: 0.3126, MSE: 0.3126, L1: 0.8218, L0: 26.3938\n",
      "Model 4, Epoch 150, Loss: 0.4479, MSE: 0.4479, L1: 0.8761, L0: 20.1822\n",
      "Model 0, Epoch 160, Loss: 0.0451, MSE: 0.0451, L1: 0.3041, L0: 382.2398\n",
      "Model 1, Epoch 160, Loss: 0.0989, MSE: 0.0989, L1: 0.5348, L0: 208.0491\n",
      "Model 2, Epoch 160, Loss: 0.1871, MSE: 0.1871, L1: 0.7217, L0: 68.6108\n",
      "Model 3, Epoch 160, Loss: 0.3117, MSE: 0.3117, L1: 0.8096, L0: 25.8880\n",
      "Model 4, Epoch 160, Loss: 0.4455, MSE: 0.4455, L1: 0.8639, L0: 19.5321\n",
      "Model 0, Epoch 170, Loss: 0.0456, MSE: 0.0456, L1: 0.3003, L0: 354.6552\n",
      "Model 1, Epoch 170, Loss: 0.0984, MSE: 0.0984, L1: 0.5270, L0: 202.2360\n",
      "Model 2, Epoch 170, Loss: 0.1862, MSE: 0.1862, L1: 0.7102, L0: 70.1554\n",
      "Model 3, Epoch 170, Loss: 0.3114, MSE: 0.3114, L1: 0.7978, L0: 25.3923\n",
      "Model 4, Epoch 170, Loss: 0.4434, MSE: 0.4434, L1: 0.8526, L0: 18.8963\n",
      "Model 0, Epoch 180, Loss: 0.0462, MSE: 0.0462, L1: 0.2964, L0: 359.2657\n",
      "Model 1, Epoch 180, Loss: 0.0976, MSE: 0.0976, L1: 0.5201, L0: 197.3029\n",
      "Model 2, Epoch 180, Loss: 0.1852, MSE: 0.1852, L1: 0.6983, L0: 70.4966\n",
      "Model 3, Epoch 180, Loss: 0.3113, MSE: 0.3113, L1: 0.7869, L0: 24.8861\n",
      "Model 4, Epoch 180, Loss: 0.4429, MSE: 0.4429, L1: 0.8410, L0: 18.2762\n",
      "Model 0, Epoch 190, Loss: 0.0467, MSE: 0.0467, L1: 0.2926, L0: 353.8623\n",
      "Model 1, Epoch 190, Loss: 0.0971, MSE: 0.0971, L1: 0.5133, L0: 192.1383\n",
      "Model 2, Epoch 190, Loss: 0.1843, MSE: 0.1843, L1: 0.6890, L0: 71.3425\n",
      "Model 3, Epoch 190, Loss: 0.3119, MSE: 0.3119, L1: 0.7758, L0: 24.2891\n",
      "Model 4, Epoch 190, Loss: 0.4431, MSE: 0.4431, L1: 0.8291, L0: 17.6258\n",
      "Model 0, Epoch 200, Loss: 0.0473, MSE: 0.0473, L1: 0.2889, L0: 348.2472\n",
      "Model 1, Epoch 200, Loss: 0.0968, MSE: 0.0968, L1: 0.5065, L0: 187.5753\n",
      "Model 2, Epoch 200, Loss: 0.1838, MSE: 0.1838, L1: 0.6796, L0: 72.2003\n",
      "Model 3, Epoch 200, Loss: 0.3122, MSE: 0.3122, L1: 0.7661, L0: 23.7555\n",
      "Model 4, Epoch 200, Loss: 0.4426, MSE: 0.4426, L1: 0.8190, L0: 17.0120\n",
      "Model 0, Epoch 210, Loss: 0.0479, MSE: 0.0479, L1: 0.2854, L0: 342.4680\n",
      "Model 1, Epoch 210, Loss: 0.0964, MSE: 0.0964, L1: 0.5006, L0: 184.3979\n",
      "Model 2, Epoch 210, Loss: 0.1841, MSE: 0.1841, L1: 0.6706, L0: 73.5397\n",
      "Model 3, Epoch 210, Loss: 0.3136, MSE: 0.3136, L1: 0.7562, L0: 23.1977\n",
      "Model 4, Epoch 210, Loss: 0.4444, MSE: 0.4444, L1: 0.8078, L0: 16.3906\n",
      "Model 0, Epoch 220, Loss: 0.0486, MSE: 0.0486, L1: 0.2822, L0: 335.7533\n",
      "Model 1, Epoch 220, Loss: 0.0957, MSE: 0.0957, L1: 0.4953, L0: 180.5844\n",
      "Model 2, Epoch 220, Loss: 0.1834, MSE: 0.1834, L1: 0.6620, L0: 74.3643\n",
      "Model 3, Epoch 220, Loss: 0.3155, MSE: 0.3155, L1: 0.7465, L0: 22.5837\n",
      "Model 4, Epoch 220, Loss: 0.4469, MSE: 0.4469, L1: 0.7967, L0: 15.7177\n",
      "Model 0, Epoch 230, Loss: 0.0495, MSE: 0.0495, L1: 0.2789, L0: 331.4392\n",
      "Model 1, Epoch 230, Loss: 0.0956, MSE: 0.0956, L1: 0.4896, L0: 177.0979\n",
      "Model 2, Epoch 230, Loss: 0.1832, MSE: 0.1832, L1: 0.6535, L0: 74.7815\n",
      "Model 3, Epoch 230, Loss: 0.3167, MSE: 0.3167, L1: 0.7374, L0: 21.7651\n",
      "Model 4, Epoch 230, Loss: 0.4495, MSE: 0.4495, L1: 0.7853, L0: 14.9955\n",
      "Model 0, Epoch 240, Loss: 0.0501, MSE: 0.0501, L1: 0.2761, L0: 326.8736\n",
      "Model 1, Epoch 240, Loss: 0.0955, MSE: 0.0955, L1: 0.4843, L0: 175.4599\n",
      "Model 2, Epoch 240, Loss: 0.1830, MSE: 0.1830, L1: 0.6447, L0: 75.1665\n",
      "Model 3, Epoch 240, Loss: 0.3181, MSE: 0.3181, L1: 0.7287, L0: 20.7700\n",
      "Model 4, Epoch 240, Loss: 0.4516, MSE: 0.4516, L1: 0.7749, L0: 14.2660\n",
      "Model 0, Epoch 250, Loss: 0.0510, MSE: 0.0510, L1: 0.2733, L0: 323.8701\n",
      "Model 1, Epoch 250, Loss: 0.0956, MSE: 0.0956, L1: 0.4789, L0: 172.5091\n",
      "Model 2, Epoch 250, Loss: 0.1830, MSE: 0.1830, L1: 0.6363, L0: 74.9274\n",
      "Model 3, Epoch 250, Loss: 0.3184, MSE: 0.3184, L1: 0.7204, L0: 19.8472\n",
      "Model 4, Epoch 250, Loss: 0.4532, MSE: 0.4532, L1: 0.7645, L0: 13.5254\n",
      "Model 0, Epoch 260, Loss: 0.0518, MSE: 0.0518, L1: 0.2709, L0: 317.9244\n",
      "Model 1, Epoch 260, Loss: 0.0956, MSE: 0.0956, L1: 0.4739, L0: 167.2892\n",
      "Model 2, Epoch 260, Loss: 0.1827, MSE: 0.1827, L1: 0.6284, L0: 74.1769\n",
      "Model 3, Epoch 260, Loss: 0.3189, MSE: 0.3189, L1: 0.7127, L0: 19.2127\n",
      "Model 4, Epoch 260, Loss: 0.4537, MSE: 0.4537, L1: 0.7554, L0: 12.7422\n",
      "Model 0, Epoch 270, Loss: 0.0525, MSE: 0.0525, L1: 0.2688, L0: 312.8138\n",
      "Model 1, Epoch 270, Loss: 0.0960, MSE: 0.0960, L1: 0.4688, L0: 164.6459\n",
      "Model 2, Epoch 270, Loss: 0.1825, MSE: 0.1825, L1: 0.6209, L0: 73.6486\n",
      "Model 3, Epoch 270, Loss: 0.3198, MSE: 0.3198, L1: 0.7047, L0: 18.6796\n",
      "Model 4, Epoch 270, Loss: 0.4531, MSE: 0.4531, L1: 0.7469, L0: 12.0386\n",
      "Model 0, Epoch 280, Loss: 0.0533, MSE: 0.0533, L1: 0.2667, L0: 308.1762\n",
      "Model 1, Epoch 280, Loss: 0.0961, MSE: 0.0961, L1: 0.4641, L0: 159.8227\n",
      "Model 2, Epoch 280, Loss: 0.1820, MSE: 0.1820, L1: 0.6141, L0: 73.2596\n",
      "Model 3, Epoch 280, Loss: 0.3195, MSE: 0.3195, L1: 0.6982, L0: 18.1719\n",
      "Model 4, Epoch 280, Loss: 0.4497, MSE: 0.4497, L1: 0.7414, L0: 11.4441\n",
      "Model 0, Epoch 290, Loss: 0.0540, MSE: 0.0540, L1: 0.2647, L0: 303.6870\n",
      "Model 1, Epoch 290, Loss: 0.0965, MSE: 0.0965, L1: 0.4595, L0: 156.2859\n",
      "Model 2, Epoch 290, Loss: 0.1823, MSE: 0.1823, L1: 0.6068, L0: 72.2963\n",
      "Model 3, Epoch 290, Loss: 0.3193, MSE: 0.3193, L1: 0.6918, L0: 17.6629\n",
      "Model 4, Epoch 290, Loss: 0.4465, MSE: 0.4465, L1: 0.7365, L0: 10.9879\n",
      "Model 0, Epoch 300, Loss: 0.0548, MSE: 0.0548, L1: 0.2627, L0: 299.4144\n",
      "Model 1, Epoch 300, Loss: 0.0972, MSE: 0.0972, L1: 0.4548, L0: 151.9855\n",
      "Model 2, Epoch 300, Loss: 0.1820, MSE: 0.1820, L1: 0.6006, L0: 71.5704\n",
      "Model 3, Epoch 300, Loss: 0.3182, MSE: 0.3182, L1: 0.6861, L0: 17.2027\n",
      "Model 4, Epoch 300, Loss: 0.4423, MSE: 0.4423, L1: 0.7330, L0: 10.6478\n",
      "Model 0, Epoch 310, Loss: 0.0554, MSE: 0.0554, L1: 0.2610, L0: 294.0488\n",
      "Model 1, Epoch 310, Loss: 0.0978, MSE: 0.0978, L1: 0.4505, L0: 147.0942\n",
      "Model 2, Epoch 310, Loss: 0.1819, MSE: 0.1819, L1: 0.5944, L0: 70.6693\n",
      "Model 3, Epoch 310, Loss: 0.3166, MSE: 0.3166, L1: 0.6813, L0: 16.7759\n",
      "Model 4, Epoch 310, Loss: 0.4383, MSE: 0.4383, L1: 0.7302, L0: 10.3413\n",
      "Model 0, Epoch 320, Loss: 0.0560, MSE: 0.0560, L1: 0.2593, L0: 290.8933\n",
      "Model 1, Epoch 320, Loss: 0.0984, MSE: 0.0984, L1: 0.4462, L0: 140.7112\n",
      "Model 2, Epoch 320, Loss: 0.1820, MSE: 0.1820, L1: 0.5885, L0: 69.7472\n",
      "Model 3, Epoch 320, Loss: 0.3141, MSE: 0.3141, L1: 0.6777, L0: 16.3589\n",
      "Model 4, Epoch 320, Loss: 0.4352, MSE: 0.4352, L1: 0.7270, L0: 10.0439\n",
      "Model 0, Epoch 330, Loss: 0.0567, MSE: 0.0567, L1: 0.2577, L0: 286.0640\n",
      "Model 1, Epoch 330, Loss: 0.0992, MSE: 0.0992, L1: 0.4422, L0: 134.6506\n",
      "Model 2, Epoch 330, Loss: 0.1822, MSE: 0.1822, L1: 0.5829, L0: 68.8313\n",
      "Model 3, Epoch 330, Loss: 0.3116, MSE: 0.3116, L1: 0.6740, L0: 15.9412\n",
      "Model 4, Epoch 330, Loss: 0.4318, MSE: 0.4318, L1: 0.7243, L0: 9.7407\n",
      "Model 0, Epoch 340, Loss: 0.0572, MSE: 0.0572, L1: 0.2563, L0: 281.0242\n",
      "Model 1, Epoch 340, Loss: 0.0998, MSE: 0.0998, L1: 0.4385, L0: 128.7153\n",
      "Model 2, Epoch 340, Loss: 0.1821, MSE: 0.1821, L1: 0.5780, L0: 67.7684\n",
      "Model 3, Epoch 340, Loss: 0.3086, MSE: 0.3086, L1: 0.6715, L0: 15.5663\n",
      "Model 4, Epoch 340, Loss: 0.4284, MSE: 0.4284, L1: 0.7222, L0: 9.4588\n",
      "Model 0, Epoch 350, Loss: 0.0580, MSE: 0.0580, L1: 0.2547, L0: 276.1023\n",
      "Model 1, Epoch 350, Loss: 0.1006, MSE: 0.1006, L1: 0.4348, L0: 123.7555\n",
      "Model 2, Epoch 350, Loss: 0.1823, MSE: 0.1823, L1: 0.5733, L0: 66.5824\n",
      "Model 3, Epoch 350, Loss: 0.3066, MSE: 0.3066, L1: 0.6682, L0: 15.2403\n",
      "Model 4, Epoch 350, Loss: 0.4262, MSE: 0.4262, L1: 0.7193, L0: 9.1996\n",
      "Model 0, Epoch 360, Loss: 0.0584, MSE: 0.0584, L1: 0.2535, L0: 271.7810\n",
      "Model 1, Epoch 360, Loss: 0.1014, MSE: 0.1014, L1: 0.4313, L0: 118.0299\n",
      "Model 2, Epoch 360, Loss: 0.1821, MSE: 0.1821, L1: 0.5694, L0: 65.5048\n",
      "Model 3, Epoch 360, Loss: 0.3040, MSE: 0.3040, L1: 0.6658, L0: 14.9431\n",
      "Model 4, Epoch 360, Loss: 0.4228, MSE: 0.4228, L1: 0.7176, L0: 8.9348\n",
      "Model 0, Epoch 370, Loss: 0.0591, MSE: 0.0591, L1: 0.2521, L0: 266.9972\n",
      "Model 1, Epoch 370, Loss: 0.1020, MSE: 0.1020, L1: 0.4281, L0: 113.3008\n",
      "Model 2, Epoch 370, Loss: 0.1824, MSE: 0.1824, L1: 0.5653, L0: 64.3983\n",
      "Model 3, Epoch 370, Loss: 0.3017, MSE: 0.3017, L1: 0.6636, L0: 14.6499\n",
      "Model 4, Epoch 370, Loss: 0.4202, MSE: 0.4202, L1: 0.7156, L0: 8.6762\n",
      "Model 0, Epoch 380, Loss: 0.0594, MSE: 0.0594, L1: 0.2512, L0: 263.1599\n",
      "Model 1, Epoch 380, Loss: 0.1026, MSE: 0.1026, L1: 0.4254, L0: 109.7365\n",
      "Model 2, Epoch 380, Loss: 0.1823, MSE: 0.1823, L1: 0.5618, L0: 63.4237\n",
      "Model 3, Epoch 380, Loss: 0.2996, MSE: 0.2996, L1: 0.6615, L0: 14.4232\n",
      "Model 4, Epoch 380, Loss: 0.4173, MSE: 0.4173, L1: 0.7144, L0: 8.4803\n",
      "Model 0, Epoch 390, Loss: 0.0597, MSE: 0.0597, L1: 0.2502, L0: 257.3753\n",
      "Model 1, Epoch 390, Loss: 0.1034, MSE: 0.1034, L1: 0.4224, L0: 105.8545\n",
      "Model 2, Epoch 390, Loss: 0.1825, MSE: 0.1825, L1: 0.5584, L0: 62.3766\n",
      "Model 3, Epoch 390, Loss: 0.2969, MSE: 0.2969, L1: 0.6596, L0: 14.0703\n",
      "Model 4, Epoch 390, Loss: 0.4140, MSE: 0.4140, L1: 0.7138, L0: 8.2956\n",
      "Model 0, Epoch 400, Loss: 0.0602, MSE: 0.0602, L1: 0.2493, L0: 249.0564\n",
      "Model 1, Epoch 400, Loss: 0.1039, MSE: 0.1039, L1: 0.4201, L0: 103.4001\n",
      "Model 2, Epoch 400, Loss: 0.1827, MSE: 0.1827, L1: 0.5554, L0: 61.5207\n",
      "Model 3, Epoch 400, Loss: 0.2955, MSE: 0.2955, L1: 0.6575, L0: 13.7701\n",
      "Model 4, Epoch 400, Loss: 0.4123, MSE: 0.4123, L1: 0.7123, L0: 8.1260\n",
      "Model 0, Epoch 410, Loss: 0.0603, MSE: 0.0603, L1: 0.2488, L0: 245.5941\n",
      "Model 1, Epoch 410, Loss: 0.1044, MSE: 0.1044, L1: 0.4181, L0: 101.3673\n",
      "Model 2, Epoch 410, Loss: 0.1822, MSE: 0.1822, L1: 0.5535, L0: 60.8272\n",
      "Model 3, Epoch 410, Loss: 0.2938, MSE: 0.2938, L1: 0.6562, L0: 13.5660\n",
      "Model 4, Epoch 410, Loss: 0.4096, MSE: 0.4096, L1: 0.7122, L0: 7.9854\n",
      "Model 0, Epoch 420, Loss: 0.0606, MSE: 0.0606, L1: 0.2480, L0: 242.0124\n",
      "Model 1, Epoch 420, Loss: 0.1049, MSE: 0.1049, L1: 0.4163, L0: 99.9533\n",
      "Model 2, Epoch 420, Loss: 0.1824, MSE: 0.1824, L1: 0.5512, L0: 60.1491\n",
      "Model 3, Epoch 420, Loss: 0.2926, MSE: 0.2926, L1: 0.6548, L0: 13.3906\n",
      "Model 4, Epoch 420, Loss: 0.4080, MSE: 0.4080, L1: 0.7113, L0: 7.8650\n",
      "Model 0, Epoch 430, Loss: 0.0609, MSE: 0.0609, L1: 0.2473, L0: 238.8725\n",
      "Model 1, Epoch 430, Loss: 0.1052, MSE: 0.1052, L1: 0.4149, L0: 98.6310\n",
      "Model 2, Epoch 430, Loss: 0.1823, MSE: 0.1823, L1: 0.5495, L0: 59.5662\n",
      "Model 3, Epoch 430, Loss: 0.2915, MSE: 0.2915, L1: 0.6537, L0: 13.2178\n",
      "Model 4, Epoch 430, Loss: 0.4064, MSE: 0.4064, L1: 0.7108, L0: 7.7656\n",
      "Model 0, Epoch 440, Loss: 0.0611, MSE: 0.0611, L1: 0.2469, L0: 234.2755\n",
      "Model 1, Epoch 440, Loss: 0.1055, MSE: 0.1055, L1: 0.4137, L0: 96.8275\n",
      "Model 2, Epoch 440, Loss: 0.1823, MSE: 0.1823, L1: 0.5482, L0: 59.1673\n",
      "Model 3, Epoch 440, Loss: 0.2904, MSE: 0.2904, L1: 0.6528, L0: 13.0862\n",
      "Model 4, Epoch 440, Loss: 0.4049, MSE: 0.4049, L1: 0.7104, L0: 7.6955\n",
      "Model 0, Epoch 450, Loss: 0.0612, MSE: 0.0612, L1: 0.2464, L0: 231.7089\n",
      "Model 1, Epoch 450, Loss: 0.1058, MSE: 0.1058, L1: 0.4126, L0: 95.7354\n",
      "Model 2, Epoch 450, Loss: 0.1822, MSE: 0.1822, L1: 0.5471, L0: 58.7813\n",
      "Model 3, Epoch 450, Loss: 0.2895, MSE: 0.2895, L1: 0.6523, L0: 12.9764\n",
      "Model 4, Epoch 450, Loss: 0.4044, MSE: 0.4044, L1: 0.7096, L0: 7.6329\n",
      "Model 0, Epoch 460, Loss: 0.0614, MSE: 0.0614, L1: 0.2461, L0: 230.8888\n",
      "Model 1, Epoch 460, Loss: 0.1060, MSE: 0.1060, L1: 0.4118, L0: 94.4326\n",
      "Model 2, Epoch 460, Loss: 0.1822, MSE: 0.1822, L1: 0.5463, L0: 58.5122\n",
      "Model 3, Epoch 460, Loss: 0.2889, MSE: 0.2889, L1: 0.6518, L0: 12.9017\n",
      "Model 4, Epoch 460, Loss: 0.4038, MSE: 0.4038, L1: 0.7092, L0: 7.5884\n",
      "Model 0, Epoch 470, Loss: 0.0614, MSE: 0.0614, L1: 0.2459, L0: 229.4641\n",
      "Model 1, Epoch 470, Loss: 0.1060, MSE: 0.1060, L1: 0.4113, L0: 93.4313\n",
      "Model 2, Epoch 470, Loss: 0.1820, MSE: 0.1820, L1: 0.5458, L0: 58.2954\n",
      "Model 3, Epoch 470, Loss: 0.2879, MSE: 0.2879, L1: 0.6519, L0: 12.8572\n",
      "Model 4, Epoch 470, Loss: 0.4026, MSE: 0.4026, L1: 0.7096, L0: 7.5534\n",
      "Model 0, Epoch 480, Loss: 0.0615, MSE: 0.0615, L1: 0.2457, L0: 229.5391\n",
      "Model 1, Epoch 480, Loss: 0.1061, MSE: 0.1061, L1: 0.4108, L0: 92.9545\n",
      "Model 2, Epoch 480, Loss: 0.1820, MSE: 0.1820, L1: 0.5453, L0: 58.0961\n",
      "Model 3, Epoch 480, Loss: 0.2880, MSE: 0.2880, L1: 0.6512, L0: 12.8047\n",
      "Model 4, Epoch 480, Loss: 0.4026, MSE: 0.4026, L1: 0.7090, L0: 7.5251\n",
      "Model 0, Epoch 490, Loss: 0.0614, MSE: 0.0614, L1: 0.2456, L0: 228.0086\n",
      "Model 1, Epoch 490, Loss: 0.1061, MSE: 0.1061, L1: 0.4106, L0: 92.3828\n",
      "Model 2, Epoch 490, Loss: 0.1819, MSE: 0.1819, L1: 0.5452, L0: 57.9750\n",
      "Model 3, Epoch 490, Loss: 0.2874, MSE: 0.2874, L1: 0.6513, L0: 12.7873\n",
      "Model 4, Epoch 490, Loss: 0.4020, MSE: 0.4020, L1: 0.7092, L0: 7.5131\n"
     ]
    }
   ],
   "source": [
    "\n",
    "sae = man.BatchedSAE_Updated(input_dim=512, n_models=5, width_ratio=4).to(device)\n",
    "l1_lams = torch.tensor([1e1, 2e1, 3e1, 4e1, 5e1]).to(device)\n",
    "# train the model\n",
    "result = sae.fit(train_data = batched_acts, test_data=torch.tensor([]), l1_lam=l1_lams)"
   ]
  },
  {
   "cell_type": "code",
   "execution_count": 210,
   "id": "5c837937",
   "metadata": {},
   "outputs": [
    {
     "name": "stdout",
     "output_type": "stream",
     "text": [
      "Results for L1 lambda 10.0:\n",
      "MSE: 0.0614, L0: 227.7622\n",
      "Results for L1 lambda 20.0:\n",
      "MSE: 0.1061, L0: 92.3322\n",
      "Results for L1 lambda 30.0:\n",
      "MSE: 0.1819, L0: 57.9388\n",
      "Results for L1 lambda 40.0:\n",
      "MSE: 0.2874, L0: 12.7754\n",
      "Results for L1 lambda 50.0:\n",
      "MSE: 0.4019, L0: 7.5076\n"
     ]
    }
   ],
   "source": [
    "for results in result:\n",
    "    print(f\"Results for L1 lambda {results['L1 lambda']}:\")\n",
    "    print(f\"MSE: {results['mse']:.4f}, L0: {results['L0']:.4f}\")"
   ]
  },
  {
   "cell_type": "code",
   "execution_count": 211,
   "id": "d83ea43d",
   "metadata": {},
   "outputs": [
    {
     "data": {
      "text/plain": [
       "torch.Size([5, 10215, 512])"
      ]
     },
     "execution_count": 211,
     "metadata": {},
     "output_type": "execute_result"
    }
   ],
   "source": [
    "batched_acts.shape"
   ]
  },
  {
   "cell_type": "code",
   "execution_count": 8,
   "id": "42ea96fc",
   "metadata": {},
   "outputs": [],
   "source": [
    "_, _, feats, recon = sae(batched_acts[:, :60, :])  # Test the model with the first sample"
   ]
  },
  {
   "cell_type": "code",
   "execution_count": 213,
   "id": "5dac333f",
   "metadata": {},
   "outputs": [
    {
     "data": {
      "text/plain": [
       "torch.Size([5, 60, 2048])"
      ]
     },
     "execution_count": 213,
     "metadata": {},
     "output_type": "execute_result"
    }
   ],
   "source": [
    "feats.shape"
   ]
  },
  {
   "cell_type": "code",
   "execution_count": 214,
   "id": "d907b36f",
   "metadata": {},
   "outputs": [],
   "source": [
    "feats[0,0].shape\n",
    "def determine_l1(features):\n",
    "    # Calculate the L0 norm (number of non-zero elements)\n",
    "    l0 = torch.count_nonzero(features, dim=1).float().mean().item()\n",
    "    return l0"
   ]
  },
  {
   "cell_type": "code",
   "execution_count": 215,
   "id": "302015da",
   "metadata": {},
   "outputs": [
    {
     "data": {
      "text/plain": [
       "7.216667175292969"
      ]
     },
     "execution_count": 215,
     "metadata": {},
     "output_type": "execute_result"
    }
   ],
   "source": [
    "determine_l1(feats[4])"
   ]
  },
  {
   "cell_type": "code",
   "execution_count": 216,
   "id": "270cd0ee",
   "metadata": {},
   "outputs": [
    {
     "data": {
      "text/plain": [
       "torch.Size([5, 60, 2048])"
      ]
     },
     "execution_count": 216,
     "metadata": {},
     "output_type": "execute_result"
    }
   ],
   "source": [
    "feats.shape"
   ]
  },
  {
   "cell_type": "code",
   "execution_count": 217,
   "id": "7988c926",
   "metadata": {},
   "outputs": [
    {
     "name": "stdout",
     "output_type": "stream",
     "text": [
      "torch.Size([60, 2048])\n"
     ]
    },
    {
     "data": {
      "text/plain": [
       "tensor([  0, 113,   0, 114], device='cuda:0')"
      ]
     },
     "execution_count": 217,
     "metadata": {},
     "output_type": "execute_result"
    }
   ],
   "source": [
    "print(feats[0].shape)\n",
    "\n",
    "inputs[0]"
   ]
  },
  {
   "cell_type": "code",
   "execution_count": 223,
   "id": "36f090c5",
   "metadata": {},
   "outputs": [],
   "source": [
    "torch.save(sae.state_dict(), \"sae_model.pth\")"
   ]
  },
  {
   "cell_type": "code",
   "execution_count": 3,
   "id": "797bd057",
   "metadata": {},
   "outputs": [
    {
     "data": {
      "text/plain": [
       "<All keys matched successfully>"
      ]
     },
     "execution_count": 3,
     "metadata": {},
     "output_type": "execute_result"
    }
   ],
   "source": [
    "sae_dict = torch.load(\"sae_model.pth\", map_location=device)\n",
    "sae = man.BatchedSAE_Updated(input_dim=512, n_models=5, width_ratio=4).to(device)\n",
    "sae.load_state_dict(sae_dict)"
   ]
  },
  {
   "cell_type": "code",
   "execution_count": 9,
   "id": "19cf5bd9",
   "metadata": {},
   "outputs": [
    {
     "data": {
      "image/png": "[encoded data removed]",
      "text/plain": [
       "<Figure size 1000x1500 with 2 Axes>"
      ]
     },
     "metadata": {},
     "output_type": "display_data"
    }
   ],
   "source": [
    "from matplotlib import pyplot as plt\n",
    "\n",
    "feat = feats[3].detach().cpu().numpy()  # Convert to numpy for further processing if needed\n",
    "plt.figure(figsize=(10, 15))\n",
    "plt.imshow(feat, cmap='viridis', aspect='auto', interpolation='None')\n",
    "#make y axis intergers\n",
    "plt.yticks(ticks=np.arange(feat.shape[0]), labels=np.arange(feat.shape[0]))\n",
    "plt.colorbar()\n",
    "plt.title(\"Feature Map\")\n",
    "plt.xlabel(\"Feature Dimension\")\n",
    "plt.ylabel(\"Sample Index\")\n",
    "plt.show()"
   ]
  },
  {
   "cell_type": "code",
   "execution_count": 11,
   "id": "0f95c555",
   "metadata": {},
   "outputs": [],
   "source": [
    "_, _, feats, recon = sae(batched_acts)  # Test the model with the first sample"
   ]
  },
  {
   "cell_type": "code",
   "execution_count": 12,
   "id": "af26872a",
   "metadata": {},
   "outputs": [
    {
     "data": {
      "text/plain": [
       "tensor([0.9871, 0.9811, 0.9684, 0.9586, 0.9433], device='cuda:0',\n",
       "       grad_fn=<MeanBackward1>)"
      ]
     },
     "execution_count": 12,
     "metadata": {},
     "output_type": "execute_result"
    }
   ],
   "source": [
    "import torch.nn.functional as F\n",
    "\n",
    "cos_sim = F.cosine_similarity(recon, batched_acts, dim=2)\n",
    "\n",
    "mean_cos_sim = cos_sim.mean(dim=1)\n",
    "\n",
    "mean_cos_sim"
   ]
  },
  {
   "cell_type": "code",
   "execution_count": 13,
   "id": "de1bf59a",
   "metadata": {},
   "outputs": [],
   "source": [
    "batched_acts = batched_acts.cpu().numpy()\n",
    "recon = recon.detach().cpu().numpy()"
   ]
  },
  {
   "cell_type": "code",
   "execution_count": 14,
   "id": "6210544d",
   "metadata": {},
   "outputs": [
    {
     "data": {
      "text/plain": [
       "array([0.93493944, 0.8987832 , 0.85453653, 0.8067285 , 0.7546353 ],\n",
       "      dtype=float32)"
      ]
     },
     "execution_count": 14,
     "metadata": {},
     "output_type": "execute_result"
    }
   ],
   "source": [
    "dot = np.einsum('msd,msd->ms', recon, batched_acts)\n",
    "act_norm_sq = np.einsum('msd,msd->ms', batched_acts, batched_acts)\n",
    "alpha = (dot / act_norm_sq + 1e-8)[:,:,None]\n",
    "proj = alpha * batched_acts\n",
    "\n",
    "mean_alpha = alpha.squeeze(-1).mean(axis=1)\n",
    "\n",
    "mean_alpha"
   ]
  }
 ],
 "metadata": {
  "kernelspec": {
   "display_name": "featuremanifolds",
   "language": "python",
   "name": "python3"
  },
  "language_info": {
   "codemirror_mode": {
    "name": "ipython",
    "version": 3
   },
   "file_extension": ".py",
   "mimetype": "text/x-python",
   "name": "python",
   "nbconvert_exporter": "python",
   "pygments_lexer": "ipython3",
   "version": "3.12.3"
  }
 },
 "nbformat": 4,
 "nbformat_minor": 5
}
