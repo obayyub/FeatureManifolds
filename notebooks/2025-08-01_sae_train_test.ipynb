{
 "cells": [
  {
   "cell_type": "code",
   "execution_count": 1,
   "id": "e508c992",
   "metadata": {},
   "outputs": [],
   "source": [
    "%load_ext autoreload\n",
    "%autoreload 2\n",
    "import featureman.gen_data as man\n",
    "import torch\n",
    "import torch.nn as nn\n",
    "import numpy as np\n",
    "device = torch.device(\"cuda\" if torch.cuda.is_available() else \"cpu\")"
   ]
  },
  {
   "cell_type": "code",
   "execution_count": 2,
   "id": "b1da6848",
   "metadata": {},
   "outputs": [
    {
     "data": {
      "text/plain": [
       "<All keys matched successfully>"
      ]
     },
     "execution_count": 2,
     "metadata": {},
     "output_type": "execute_result"
    }
   ],
   "source": [
    "\n",
    "model_dict = torch.load(\"modular_arithmetic_model.pth\", map_location=device)\n",
    "model = man.OneLayerTransformer(p=113, d_model=128, nheads=4).to(device)\n",
    "model.load_state_dict(model_dict)"
   ]
  },
  {
   "cell_type": "code",
   "execution_count": 3,
   "id": "abd29845",
   "metadata": {},
   "outputs": [
    {
     "name": "stdout",
     "output_type": "stream",
     "text": [
      "torch.Size([12769, 4])\n"
     ]
    }
   ],
   "source": [
    "torch.manual_seed(1337)\n",
    "# generate combination of all inputs a and b range (113)\n",
    "a = np.arange(113)\n",
    "b = np.arange(113)\n",
    "# generate inputs for the model\n",
    "inputs = np.array([[a_i, 113, b_i, 114] for a_i in a for b_i in b])\n",
    "inputs = torch.tensor(inputs).to(device)  # Add batch dimension\n",
    "print(inputs.shape)\n",
    "logits, activations = model(inputs, return_activations=True)"
   ]
  },
  {
   "cell_type": "code",
   "execution_count": 4,
   "id": "2b1d6d7d",
   "metadata": {},
   "outputs": [
    {
     "data": {
      "text/plain": [
       "tensor([[0.6279, 0.0000, 0.0483,  ..., 0.9191, 0.2596, 0.4742],\n",
       "        [0.0000, 1.3565, 0.0000,  ..., 0.0000, 0.0000, 0.0000],\n",
       "        [0.3152, 0.0000, 0.1177,  ..., 0.0000, 0.0287, 0.6013],\n",
       "        ...,\n",
       "        [0.0000, 0.0000, 0.1213,  ..., 0.6463, 0.0972, 0.6923],\n",
       "        [0.5849, 0.0000, 0.0743,  ..., 0.0000, 0.0000, 0.6800],\n",
       "        [0.3997, 0.5107, 0.0062,  ..., 0.0000, 0.0505, 0.0000]])"
      ]
     },
     "execution_count": 4,
     "metadata": {},
     "output_type": "execute_result"
    }
   ],
   "source": [
    "activations_data = activations[:, -1, :] #shape [n_samples, d_model]\n",
    "activations_data = activations_data.detach().cpu()\n",
    "#shuffle and split\n",
    "indices = torch.randperm(activations_data.shape[0])\n",
    "n_samples = activations_data.shape[0]\n",
    "split_idx = int(0.8 * n_samples)\n",
    "train_indices = indices[:split_idx]\n",
    "test_indices = indices[split_idx:]\n",
    "\n",
    "activations_train = activations_data[train_indices]\n",
    "activations_test = activations_data[test_indices]\n",
    "# to created batched version just repeat 5 times stacked\n",
    "\n",
    "batched_acts = activations_train.unsqueeze(0).repeat(5, 1, 1).to(device)\n",
    "\n",
    "activations_train"
   ]
  },
  {
   "cell_type": "code",
   "execution_count": 11,
   "id": "f67d4992",
   "metadata": {},
   "outputs": [
    {
     "name": "stdout",
     "output_type": "stream",
     "text": [
      "Model 0, Epoch 0, Loss: 0.8730, MSE: 0.8730, L1: 0.0000, L0: 1714.0544\n",
      "Model 1, Epoch 0, Loss: 0.9134, MSE: 0.9134, L1: 0.0000, L0: 1732.8638\n",
      "Model 2, Epoch 0, Loss: 0.8203, MSE: 0.8203, L1: 0.0000, L0: 1718.5007\n",
      "Model 3, Epoch 0, Loss: 0.8173, MSE: 0.8173, L1: 0.0000, L0: 1713.1373\n",
      "Model 4, Epoch 0, Loss: 0.8154, MSE: 0.8154, L1: 0.0000, L0: 1715.2540\n",
      "Model 0, Epoch 10, Loss: 0.0260, MSE: 0.0260, L1: 0.1981, L0: 565.4881\n",
      "Model 1, Epoch 10, Loss: 0.0452, MSE: 0.0452, L1: 0.3608, L0: 552.1923\n",
      "Model 2, Epoch 10, Loss: 0.0732, MSE: 0.0732, L1: 0.5037, L0: 183.5656\n",
      "Model 3, Epoch 10, Loss: 0.1109, MSE: 0.1109, L1: 0.6328, L0: 130.7923\n",
      "Model 4, Epoch 10, Loss: 0.1477, MSE: 0.1477, L1: 0.7370, L0: 118.9946\n",
      "Model 0, Epoch 20, Loss: 0.0363, MSE: 0.0363, L1: 0.3463, L0: 376.3651\n",
      "Model 1, Epoch 20, Loss: 0.0924, MSE: 0.0924, L1: 0.6226, L0: 393.6901\n",
      "Model 2, Epoch 20, Loss: 0.1639, MSE: 0.1639, L1: 0.8158, L0: 72.4469\n",
      "Model 3, Epoch 20, Loss: 0.2625, MSE: 0.2625, L1: 0.9736, L0: 31.2928\n",
      "Model 4, Epoch 20, Loss: 0.3614, MSE: 0.3614, L1: 1.0894, L0: 30.3038\n",
      "Model 0, Epoch 30, Loss: 0.0421, MSE: 0.0421, L1: 0.4105, L0: 384.8317\n",
      "Model 1, Epoch 30, Loss: 0.1215, MSE: 0.1215, L1: 0.7182, L0: 351.4663\n",
      "Model 2, Epoch 30, Loss: 0.2236, MSE: 0.2236, L1: 0.9173, L0: 50.1708\n",
      "Model 3, Epoch 30, Loss: 0.3637, MSE: 0.3637, L1: 1.0602, L0: 24.0561\n",
      "Model 4, Epoch 30, Loss: 0.5104, MSE: 0.5104, L1: 1.1529, L0: 23.5009\n",
      "Model 0, Epoch 40, Loss: 0.0401, MSE: 0.0401, L1: 0.4037, L0: 414.5666\n",
      "Model 1, Epoch 40, Loss: 0.1153, MSE: 0.1153, L1: 0.7007, L0: 362.3955\n",
      "Model 2, Epoch 40, Loss: 0.2148, MSE: 0.2148, L1: 0.9010, L0: 46.8368\n",
      "Model 3, Epoch 40, Loss: 0.3525, MSE: 0.3525, L1: 1.0320, L0: 23.4911\n",
      "Model 4, Epoch 40, Loss: 0.5047, MSE: 0.5047, L1: 1.1145, L0: 24.6194\n",
      "Model 0, Epoch 50, Loss: 0.0392, MSE: 0.0392, L1: 0.3973, L0: 456.1962\n",
      "Model 1, Epoch 50, Loss: 0.1120, MSE: 0.1120, L1: 0.6866, L0: 367.8494\n",
      "Model 2, Epoch 50, Loss: 0.2095, MSE: 0.2095, L1: 0.8830, L0: 45.8158\n",
      "Model 3, Epoch 50, Loss: 0.3447, MSE: 0.3447, L1: 1.0042, L0: 23.6829\n",
      "Model 4, Epoch 50, Loss: 0.4913, MSE: 0.4913, L1: 1.0849, L0: 24.5910\n",
      "Model 0, Epoch 60, Loss: 0.0390, MSE: 0.0390, L1: 0.3888, L0: 497.4905\n",
      "Model 1, Epoch 60, Loss: 0.1099, MSE: 0.1099, L1: 0.6731, L0: 369.2955\n",
      "Model 2, Epoch 60, Loss: 0.2046, MSE: 0.2046, L1: 0.8686, L0: 46.9223\n",
      "Model 3, Epoch 60, Loss: 0.3392, MSE: 0.3392, L1: 0.9777, L0: 23.4764\n",
      "Model 4, Epoch 60, Loss: 0.4853, MSE: 0.4853, L1: 1.0537, L0: 24.1716\n",
      "Model 0, Epoch 70, Loss: 0.0397, MSE: 0.0397, L1: 0.3764, L0: 512.6638\n",
      "Model 1, Epoch 70, Loss: 0.1094, MSE: 0.1094, L1: 0.6569, L0: 354.4359\n",
      "Model 2, Epoch 70, Loss: 0.2013, MSE: 0.2013, L1: 0.8536, L0: 49.0677\n",
      "Model 3, Epoch 70, Loss: 0.3352, MSE: 0.3352, L1: 0.9537, L0: 23.3398\n",
      "Model 4, Epoch 70, Loss: 0.4811, MSE: 0.4811, L1: 1.0250, L0: 23.5486\n",
      "Model 0, Epoch 80, Loss: 0.0403, MSE: 0.0403, L1: 0.3639, L0: 515.6310\n",
      "Model 1, Epoch 80, Loss: 0.1083, MSE: 0.1083, L1: 0.6395, L0: 329.8584\n",
      "Model 2, Epoch 80, Loss: 0.1992, MSE: 0.1992, L1: 0.8379, L0: 50.8315\n",
      "Model 3, Epoch 80, Loss: 0.3308, MSE: 0.3308, L1: 0.9330, L0: 23.4360\n",
      "Model 4, Epoch 80, Loss: 0.4757, MSE: 0.4757, L1: 1.0002, L0: 23.5626\n",
      "Model 0, Epoch 90, Loss: 0.0409, MSE: 0.0409, L1: 0.3528, L0: 505.8033\n",
      "Model 1, Epoch 90, Loss: 0.1064, MSE: 0.1064, L1: 0.6263, L0: 296.6727\n",
      "Model 2, Epoch 90, Loss: 0.1979, MSE: 0.1979, L1: 0.8243, L0: 52.7112\n",
      "Model 3, Epoch 90, Loss: 0.3273, MSE: 0.3273, L1: 0.9134, L0: 23.6781\n",
      "Model 4, Epoch 90, Loss: 0.4717, MSE: 0.4717, L1: 0.9770, L0: 22.9077\n",
      "Model 0, Epoch 100, Loss: 0.0415, MSE: 0.0415, L1: 0.3424, L0: 495.6946\n",
      "Model 1, Epoch 100, Loss: 0.1058, MSE: 0.1058, L1: 0.6105, L0: 285.5331\n",
      "Model 2, Epoch 100, Loss: 0.1969, MSE: 0.1969, L1: 0.8068, L0: 54.6500\n",
      "Model 3, Epoch 100, Loss: 0.3247, MSE: 0.3247, L1: 0.8949, L0: 24.1943\n",
      "Model 4, Epoch 100, Loss: 0.4674, MSE: 0.4674, L1: 0.9561, L0: 22.2325\n",
      "Model 0, Epoch 110, Loss: 0.0421, MSE: 0.0421, L1: 0.3326, L0: 474.7390\n",
      "Model 1, Epoch 110, Loss: 0.1052, MSE: 0.1052, L1: 0.5942, L0: 275.0892\n",
      "Model 2, Epoch 110, Loss: 0.1954, MSE: 0.1954, L1: 0.7907, L0: 56.1760\n",
      "Model 3, Epoch 110, Loss: 0.3220, MSE: 0.3220, L1: 0.8780, L0: 24.4854\n",
      "Model 4, Epoch 110, Loss: 0.4631, MSE: 0.4631, L1: 0.9376, L0: 21.5423\n",
      "Model 0, Epoch 120, Loss: 0.0427, MSE: 0.0427, L1: 0.3247, L0: 457.5050\n",
      "Model 1, Epoch 120, Loss: 0.1040, MSE: 0.1040, L1: 0.5791, L0: 262.7025\n",
      "Model 2, Epoch 120, Loss: 0.1943, MSE: 0.1943, L1: 0.7747, L0: 57.5323\n",
      "Model 3, Epoch 120, Loss: 0.3199, MSE: 0.3199, L1: 0.8621, L0: 24.5845\n",
      "Model 4, Epoch 120, Loss: 0.4589, MSE: 0.4589, L1: 0.9208, L0: 20.8676\n",
      "Model 0, Epoch 130, Loss: 0.0430, MSE: 0.0430, L1: 0.3187, L0: 444.1657\n",
      "Model 1, Epoch 130, Loss: 0.1029, MSE: 0.1029, L1: 0.5658, L0: 251.5495\n",
      "Model 2, Epoch 130, Loss: 0.1928, MSE: 0.1928, L1: 0.7599, L0: 58.2716\n",
      "Model 3, Epoch 130, Loss: 0.3176, MSE: 0.3176, L1: 0.8476, L0: 24.5339\n",
      "Model 4, Epoch 130, Loss: 0.4547, MSE: 0.4547, L1: 0.9056, L0: 20.2186\n",
      "Model 0, Epoch 140, Loss: 0.0432, MSE: 0.0432, L1: 0.3134, L0: 432.5202\n",
      "Model 1, Epoch 140, Loss: 0.1020, MSE: 0.1020, L1: 0.5546, L0: 240.7466\n",
      "Model 2, Epoch 140, Loss: 0.1920, MSE: 0.1920, L1: 0.7453, L0: 59.7588\n",
      "Model 3, Epoch 140, Loss: 0.3165, MSE: 0.3165, L1: 0.8333, L0: 24.2696\n",
      "Model 4, Epoch 140, Loss: 0.4515, MSE: 0.4515, L1: 0.8911, L0: 19.5448\n",
      "Model 0, Epoch 150, Loss: 0.0436, MSE: 0.0436, L1: 0.3087, L0: 421.7325\n",
      "Model 1, Epoch 150, Loss: 0.1012, MSE: 0.1012, L1: 0.5447, L0: 231.4888\n",
      "Model 2, Epoch 150, Loss: 0.1896, MSE: 0.1896, L1: 0.7327, L0: 61.0084\n",
      "Model 3, Epoch 150, Loss: 0.3152, MSE: 0.3152, L1: 0.8204, L0: 23.9326\n",
      "Model 4, Epoch 150, Loss: 0.4491, MSE: 0.4491, L1: 0.8777, L0: 18.9101\n",
      "Model 0, Epoch 160, Loss: 0.0439, MSE: 0.0439, L1: 0.3045, L0: 409.0201\n",
      "Model 1, Epoch 160, Loss: 0.0998, MSE: 0.0998, L1: 0.5362, L0: 222.8173\n",
      "Model 2, Epoch 160, Loss: 0.1883, MSE: 0.1883, L1: 0.7210, L0: 62.0502\n",
      "Model 3, Epoch 160, Loss: 0.3146, MSE: 0.3146, L1: 0.8081, L0: 23.3472\n",
      "Model 4, Epoch 160, Loss: 0.4466, MSE: 0.4466, L1: 0.8656, L0: 18.2843\n",
      "Model 0, Epoch 170, Loss: 0.0443, MSE: 0.0443, L1: 0.3004, L0: 392.0088\n",
      "Model 1, Epoch 170, Loss: 0.0989, MSE: 0.0989, L1: 0.5281, L0: 214.0760\n",
      "Model 2, Epoch 170, Loss: 0.1878, MSE: 0.1878, L1: 0.7104, L0: 63.1117\n",
      "Model 3, Epoch 170, Loss: 0.3144, MSE: 0.3144, L1: 0.7965, L0: 22.8306\n",
      "Model 4, Epoch 170, Loss: 0.4448, MSE: 0.4448, L1: 0.8538, L0: 17.6779\n",
      "Model 0, Epoch 180, Loss: 0.0448, MSE: 0.0448, L1: 0.2964, L0: 364.4377\n",
      "Model 1, Epoch 180, Loss: 0.0982, MSE: 0.0982, L1: 0.5207, L0: 207.2774\n",
      "Model 2, Epoch 180, Loss: 0.1878, MSE: 0.1878, L1: 0.6992, L0: 63.1684\n",
      "Model 3, Epoch 180, Loss: 0.3147, MSE: 0.3147, L1: 0.7856, L0: 22.2573\n",
      "Model 4, Epoch 180, Loss: 0.4441, MSE: 0.4441, L1: 0.8423, L0: 17.0817\n",
      "Model 0, Epoch 190, Loss: 0.0452, MSE: 0.0452, L1: 0.2928, L0: 356.9559\n",
      "Model 1, Epoch 190, Loss: 0.0974, MSE: 0.0974, L1: 0.5140, L0: 201.7868\n",
      "Model 2, Epoch 190, Loss: 0.1876, MSE: 0.1876, L1: 0.6899, L0: 64.5086\n",
      "Model 3, Epoch 190, Loss: 0.3154, MSE: 0.3154, L1: 0.7753, L0: 21.7012\n",
      "Model 4, Epoch 190, Loss: 0.4438, MSE: 0.4438, L1: 0.8314, L0: 16.5063\n",
      "Model 0, Epoch 200, Loss: 0.0457, MSE: 0.0457, L1: 0.2892, L0: 355.6795\n",
      "Model 1, Epoch 200, Loss: 0.0966, MSE: 0.0966, L1: 0.5078, L0: 195.4507\n",
      "Model 2, Epoch 200, Loss: 0.1871, MSE: 0.1871, L1: 0.6791, L0: 65.6258\n",
      "Model 3, Epoch 200, Loss: 0.3169, MSE: 0.3169, L1: 0.7649, L0: 21.1265\n",
      "Model 4, Epoch 200, Loss: 0.4441, MSE: 0.4441, L1: 0.8204, L0: 15.9078\n",
      "Model 0, Epoch 210, Loss: 0.0463, MSE: 0.0463, L1: 0.2856, L0: 346.3890\n",
      "Model 1, Epoch 210, Loss: 0.0962, MSE: 0.0962, L1: 0.5017, L0: 191.1694\n",
      "Model 2, Epoch 210, Loss: 0.1871, MSE: 0.1871, L1: 0.6693, L0: 66.4818\n",
      "Model 3, Epoch 210, Loss: 0.3189, MSE: 0.3189, L1: 0.7549, L0: 20.4580\n",
      "Model 4, Epoch 210, Loss: 0.4460, MSE: 0.4460, L1: 0.8092, L0: 15.2770\n",
      "Model 0, Epoch 220, Loss: 0.0469, MSE: 0.0469, L1: 0.2822, L0: 337.7976\n",
      "Model 1, Epoch 220, Loss: 0.0954, MSE: 0.0954, L1: 0.4962, L0: 189.1081\n",
      "Model 2, Epoch 220, Loss: 0.1863, MSE: 0.1863, L1: 0.6602, L0: 66.9248\n",
      "Model 3, Epoch 220, Loss: 0.3201, MSE: 0.3201, L1: 0.7458, L0: 19.7580\n",
      "Model 4, Epoch 220, Loss: 0.4476, MSE: 0.4476, L1: 0.7984, L0: 14.6135\n",
      "Model 0, Epoch 230, Loss: 0.0477, MSE: 0.0477, L1: 0.2789, L0: 326.7344\n",
      "Model 1, Epoch 230, Loss: 0.0955, MSE: 0.0955, L1: 0.4903, L0: 186.2855\n",
      "Model 2, Epoch 230, Loss: 0.1866, MSE: 0.1866, L1: 0.6511, L0: 67.8520\n",
      "Model 3, Epoch 230, Loss: 0.3226, MSE: 0.3226, L1: 0.7361, L0: 19.1003\n",
      "Model 4, Epoch 230, Loss: 0.4506, MSE: 0.4506, L1: 0.7870, L0: 13.7270\n",
      "Model 0, Epoch 240, Loss: 0.0484, MSE: 0.0484, L1: 0.2761, L0: 318.0094\n",
      "Model 1, Epoch 240, Loss: 0.0952, MSE: 0.0952, L1: 0.4848, L0: 182.4570\n",
      "Model 2, Epoch 240, Loss: 0.1866, MSE: 0.1866, L1: 0.6427, L0: 68.7497\n",
      "Model 3, Epoch 240, Loss: 0.3238, MSE: 0.3238, L1: 0.7271, L0: 18.4642\n",
      "Model 4, Epoch 240, Loss: 0.4527, MSE: 0.4527, L1: 0.7757, L0: 12.9008\n",
      "Model 0, Epoch 250, Loss: 0.0490, MSE: 0.0490, L1: 0.2736, L0: 310.7963\n",
      "Model 1, Epoch 250, Loss: 0.0952, MSE: 0.0952, L1: 0.4795, L0: 178.1422\n",
      "Model 2, Epoch 250, Loss: 0.1866, MSE: 0.1866, L1: 0.6352, L0: 68.9622\n",
      "Model 3, Epoch 250, Loss: 0.3258, MSE: 0.3258, L1: 0.7181, L0: 17.8512\n",
      "Model 4, Epoch 250, Loss: 0.4531, MSE: 0.4531, L1: 0.7670, L0: 12.1751\n",
      "Model 0, Epoch 260, Loss: 0.0497, MSE: 0.0497, L1: 0.2713, L0: 312.2459\n",
      "Model 1, Epoch 260, Loss: 0.0953, MSE: 0.0953, L1: 0.4741, L0: 174.6253\n",
      "Model 2, Epoch 260, Loss: 0.1857, MSE: 0.1857, L1: 0.6278, L0: 68.4744\n",
      "Model 3, Epoch 260, Loss: 0.3266, MSE: 0.3266, L1: 0.7100, L0: 17.2427\n",
      "Model 4, Epoch 260, Loss: 0.4526, MSE: 0.4526, L1: 0.7591, L0: 11.6593\n",
      "Model 0, Epoch 270, Loss: 0.0507, MSE: 0.0507, L1: 0.2684, L0: 307.7885\n",
      "Model 1, Epoch 270, Loss: 0.0956, MSE: 0.0956, L1: 0.4691, L0: 170.4302\n",
      "Model 2, Epoch 270, Loss: 0.1857, MSE: 0.1857, L1: 0.6202, L0: 68.3226\n",
      "Model 3, Epoch 270, Loss: 0.3280, MSE: 0.3280, L1: 0.7015, L0: 16.5340\n",
      "Model 4, Epoch 270, Loss: 0.4527, MSE: 0.4527, L1: 0.7506, L0: 11.1476\n",
      "Model 0, Epoch 280, Loss: 0.0514, MSE: 0.0514, L1: 0.2663, L0: 305.2132\n",
      "Model 1, Epoch 280, Loss: 0.0960, MSE: 0.0960, L1: 0.4642, L0: 166.9070\n",
      "Model 2, Epoch 280, Loss: 0.1852, MSE: 0.1852, L1: 0.6129, L0: 67.6972\n",
      "Model 3, Epoch 280, Loss: 0.3275, MSE: 0.3275, L1: 0.6949, L0: 15.8966\n",
      "Model 4, Epoch 280, Loss: 0.4506, MSE: 0.4506, L1: 0.7449, L0: 10.7005\n",
      "Model 0, Epoch 290, Loss: 0.0520, MSE: 0.0520, L1: 0.2643, L0: 300.5909\n",
      "Model 1, Epoch 290, Loss: 0.0964, MSE: 0.0964, L1: 0.4595, L0: 161.6823\n",
      "Model 2, Epoch 290, Loss: 0.1851, MSE: 0.1851, L1: 0.6060, L0: 66.8502\n",
      "Model 3, Epoch 290, Loss: 0.3259, MSE: 0.3259, L1: 0.6896, L0: 15.3712\n",
      "Model 4, Epoch 290, Loss: 0.4485, MSE: 0.4485, L1: 0.7398, L0: 10.3190\n",
      "Model 0, Epoch 300, Loss: 0.0527, MSE: 0.0527, L1: 0.2623, L0: 295.8181\n",
      "Model 1, Epoch 300, Loss: 0.0970, MSE: 0.0970, L1: 0.4547, L0: 156.1628\n",
      "Model 2, Epoch 300, Loss: 0.1849, MSE: 0.1849, L1: 0.5997, L0: 66.2602\n",
      "Model 3, Epoch 300, Loss: 0.3238, MSE: 0.3238, L1: 0.6847, L0: 14.8965\n",
      "Model 4, Epoch 300, Loss: 0.4464, MSE: 0.4464, L1: 0.7347, L0: 9.9594\n",
      "Model 0, Epoch 310, Loss: 0.0536, MSE: 0.0536, L1: 0.2603, L0: 290.0135\n",
      "Model 1, Epoch 310, Loss: 0.0977, MSE: 0.0977, L1: 0.4502, L0: 149.9129\n",
      "Model 2, Epoch 310, Loss: 0.1852, MSE: 0.1852, L1: 0.5932, L0: 65.3640\n",
      "Model 3, Epoch 310, Loss: 0.3222, MSE: 0.3222, L1: 0.6800, L0: 14.5173\n",
      "Model 4, Epoch 310, Loss: 0.4444, MSE: 0.4444, L1: 0.7302, L0: 9.6113\n",
      "Model 0, Epoch 320, Loss: 0.0543, MSE: 0.0543, L1: 0.2584, L0: 279.6135\n",
      "Model 1, Epoch 320, Loss: 0.0985, MSE: 0.0985, L1: 0.4459, L0: 143.2460\n",
      "Model 2, Epoch 320, Loss: 0.1853, MSE: 0.1853, L1: 0.5867, L0: 64.1994\n",
      "Model 3, Epoch 320, Loss: 0.3197, MSE: 0.3197, L1: 0.6764, L0: 14.1738\n",
      "Model 4, Epoch 320, Loss: 0.4413, MSE: 0.4413, L1: 0.7269, L0: 9.2783\n",
      "Model 0, Epoch 330, Loss: 0.0550, MSE: 0.0550, L1: 0.2567, L0: 274.0605\n",
      "Model 1, Epoch 330, Loss: 0.0990, MSE: 0.0990, L1: 0.4420, L0: 137.5167\n",
      "Model 2, Epoch 330, Loss: 0.1853, MSE: 0.1853, L1: 0.5813, L0: 63.0086\n",
      "Model 3, Epoch 330, Loss: 0.3179, MSE: 0.3179, L1: 0.6726, L0: 13.7877\n",
      "Model 4, Epoch 330, Loss: 0.4385, MSE: 0.4385, L1: 0.7239, L0: 8.9747\n",
      "Model 0, Epoch 340, Loss: 0.0555, MSE: 0.0555, L1: 0.2554, L0: 269.1603\n",
      "Model 1, Epoch 340, Loss: 0.0998, MSE: 0.0998, L1: 0.4383, L0: 131.2716\n",
      "Model 2, Epoch 340, Loss: 0.1852, MSE: 0.1852, L1: 0.5766, L0: 61.8274\n",
      "Model 3, Epoch 340, Loss: 0.3152, MSE: 0.3152, L1: 0.6700, L0: 13.4407\n",
      "Model 4, Epoch 340, Loss: 0.4356, MSE: 0.4356, L1: 0.7217, L0: 8.7110\n",
      "Model 0, Epoch 350, Loss: 0.0562, MSE: 0.0562, L1: 0.2540, L0: 267.8009\n",
      "Model 1, Epoch 350, Loss: 0.1006, MSE: 0.1006, L1: 0.4344, L0: 125.5765\n",
      "Model 2, Epoch 350, Loss: 0.1853, MSE: 0.1853, L1: 0.5718, L0: 60.6765\n",
      "Model 3, Epoch 350, Loss: 0.3129, MSE: 0.3129, L1: 0.6671, L0: 13.1006\n",
      "Model 4, Epoch 350, Loss: 0.4331, MSE: 0.4331, L1: 0.7192, L0: 8.4753\n",
      "Model 0, Epoch 360, Loss: 0.0568, MSE: 0.0568, L1: 0.2527, L0: 264.2368\n",
      "Model 1, Epoch 360, Loss: 0.1015, MSE: 0.1015, L1: 0.4307, L0: 120.6150\n",
      "Model 2, Epoch 360, Loss: 0.1852, MSE: 0.1852, L1: 0.5677, L0: 59.6352\n",
      "Model 3, Epoch 360, Loss: 0.3106, MSE: 0.3106, L1: 0.6646, L0: 12.8138\n",
      "Model 4, Epoch 360, Loss: 0.4303, MSE: 0.4303, L1: 0.7173, L0: 8.2678\n",
      "Model 0, Epoch 370, Loss: 0.0576, MSE: 0.0576, L1: 0.2513, L0: 261.2618\n",
      "Model 1, Epoch 370, Loss: 0.1024, MSE: 0.1024, L1: 0.4276, L0: 116.2579\n",
      "Model 2, Epoch 370, Loss: 0.1849, MSE: 0.1849, L1: 0.5645, L0: 58.8041\n",
      "Model 3, Epoch 370, Loss: 0.3086, MSE: 0.3086, L1: 0.6623, L0: 12.5351\n",
      "Model 4, Epoch 370, Loss: 0.4281, MSE: 0.4281, L1: 0.7153, L0: 8.0668\n",
      "Model 0, Epoch 380, Loss: 0.0581, MSE: 0.0581, L1: 0.2501, L0: 255.7365\n",
      "Model 1, Epoch 380, Loss: 0.1030, MSE: 0.1030, L1: 0.4248, L0: 112.6438\n",
      "Model 2, Epoch 380, Loss: 0.1845, MSE: 0.1845, L1: 0.5613, L0: 57.9580\n",
      "Model 3, Epoch 380, Loss: 0.3065, MSE: 0.3065, L1: 0.6604, L0: 12.2762\n",
      "Model 4, Epoch 380, Loss: 0.4254, MSE: 0.4254, L1: 0.7142, L0: 7.8763\n",
      "Model 0, Epoch 390, Loss: 0.0587, MSE: 0.0587, L1: 0.2490, L0: 252.7258\n",
      "Model 1, Epoch 390, Loss: 0.1037, MSE: 0.1037, L1: 0.4222, L0: 109.1444\n",
      "Model 2, Epoch 390, Loss: 0.1846, MSE: 0.1846, L1: 0.5579, L0: 57.1384\n",
      "Model 3, Epoch 390, Loss: 0.3054, MSE: 0.3054, L1: 0.6578, L0: 12.0339\n",
      "Model 4, Epoch 390, Loss: 0.4231, MSE: 0.4231, L1: 0.7128, L0: 7.7175\n",
      "Model 0, Epoch 400, Loss: 0.0590, MSE: 0.0590, L1: 0.2480, L0: 248.3164\n",
      "Model 1, Epoch 400, Loss: 0.1042, MSE: 0.1042, L1: 0.4198, L0: 104.6119\n",
      "Model 2, Epoch 400, Loss: 0.1840, MSE: 0.1840, L1: 0.5554, L0: 56.3469\n",
      "Model 3, Epoch 400, Loss: 0.3030, MSE: 0.3030, L1: 0.6566, L0: 11.8251\n",
      "Model 4, Epoch 400, Loss: 0.4206, MSE: 0.4206, L1: 0.7119, L0: 7.5803\n",
      "Model 0, Epoch 410, Loss: 0.0594, MSE: 0.0594, L1: 0.2470, L0: 244.5090\n",
      "Model 1, Epoch 410, Loss: 0.1048, MSE: 0.1048, L1: 0.4175, L0: 102.4017\n",
      "Model 2, Epoch 410, Loss: 0.1837, MSE: 0.1837, L1: 0.5531, L0: 55.4955\n",
      "Model 3, Epoch 410, Loss: 0.3013, MSE: 0.3013, L1: 0.6551, L0: 11.6187\n",
      "Model 4, Epoch 410, Loss: 0.4182, MSE: 0.4182, L1: 0.7114, L0: 7.4678\n",
      "Model 0, Epoch 420, Loss: 0.0598, MSE: 0.0598, L1: 0.2461, L0: 239.8184\n",
      "Model 1, Epoch 420, Loss: 0.1050, MSE: 0.1050, L1: 0.4160, L0: 100.8507\n",
      "Model 2, Epoch 420, Loss: 0.1835, MSE: 0.1835, L1: 0.5510, L0: 54.9131\n",
      "Model 3, Epoch 420, Loss: 0.3003, MSE: 0.3003, L1: 0.6535, L0: 11.4604\n",
      "Model 4, Epoch 420, Loss: 0.4165, MSE: 0.4165, L1: 0.7107, L0: 7.3818\n",
      "Model 0, Epoch 430, Loss: 0.0599, MSE: 0.0599, L1: 0.2455, L0: 236.5177\n",
      "Model 1, Epoch 430, Loss: 0.1051, MSE: 0.1051, L1: 0.4148, L0: 99.0252\n",
      "Model 2, Epoch 430, Loss: 0.1831, MSE: 0.1831, L1: 0.5496, L0: 54.4488\n",
      "Model 3, Epoch 430, Loss: 0.2986, MSE: 0.2986, L1: 0.6531, L0: 11.3312\n",
      "Model 4, Epoch 430, Loss: 0.4147, MSE: 0.4147, L1: 0.7105, L0: 7.3118\n",
      "Model 0, Epoch 440, Loss: 0.0603, MSE: 0.0603, L1: 0.2448, L0: 234.5446\n",
      "Model 1, Epoch 440, Loss: 0.1057, MSE: 0.1057, L1: 0.4133, L0: 97.2392\n",
      "Model 2, Epoch 440, Loss: 0.1830, MSE: 0.1830, L1: 0.5481, L0: 53.9452\n",
      "Model 3, Epoch 440, Loss: 0.2981, MSE: 0.2981, L1: 0.6519, L0: 11.2193\n",
      "Model 4, Epoch 440, Loss: 0.4143, MSE: 0.4143, L1: 0.7093, L0: 7.2515\n",
      "Model 0, Epoch 450, Loss: 0.0605, MSE: 0.0605, L1: 0.2443, L0: 232.2031\n",
      "Model 1, Epoch 450, Loss: 0.1059, MSE: 0.1059, L1: 0.4123, L0: 95.6103\n",
      "Model 2, Epoch 450, Loss: 0.1829, MSE: 0.1829, L1: 0.5470, L0: 53.5622\n",
      "Model 3, Epoch 450, Loss: 0.2973, MSE: 0.2973, L1: 0.6511, L0: 11.1308\n",
      "Model 4, Epoch 450, Loss: 0.4135, MSE: 0.4135, L1: 0.7085, L0: 7.2030\n",
      "Model 0, Epoch 460, Loss: 0.0606, MSE: 0.0606, L1: 0.2439, L0: 230.3105\n",
      "Model 1, Epoch 460, Loss: 0.1062, MSE: 0.1062, L1: 0.4114, L0: 94.5781\n",
      "Model 2, Epoch 460, Loss: 0.1830, MSE: 0.1830, L1: 0.5458, L0: 53.2747\n",
      "Model 3, Epoch 460, Loss: 0.2972, MSE: 0.2972, L1: 0.6500, L0: 11.0550\n",
      "Model 4, Epoch 460, Loss: 0.4128, MSE: 0.4128, L1: 0.7082, L0: 7.1652\n",
      "Model 0, Epoch 470, Loss: 0.0607, MSE: 0.0607, L1: 0.2436, L0: 228.9875\n",
      "Model 1, Epoch 470, Loss: 0.1061, MSE: 0.1061, L1: 0.4111, L0: 94.1201\n",
      "Model 2, Epoch 470, Loss: 0.1825, MSE: 0.1825, L1: 0.5455, L0: 53.0837\n",
      "Model 3, Epoch 470, Loss: 0.2963, MSE: 0.2963, L1: 0.6500, L0: 11.0110\n",
      "Model 4, Epoch 470, Loss: 0.4121, MSE: 0.4121, L1: 0.7080, L0: 7.1366\n",
      "Model 0, Epoch 480, Loss: 0.0607, MSE: 0.0607, L1: 0.2435, L0: 228.4053\n",
      "Model 1, Epoch 480, Loss: 0.1060, MSE: 0.1060, L1: 0.4108, L0: 93.6825\n",
      "Model 2, Epoch 480, Loss: 0.1822, MSE: 0.1822, L1: 0.5454, L0: 52.9096\n",
      "Model 3, Epoch 480, Loss: 0.2956, MSE: 0.2956, L1: 0.6502, L0: 10.9782\n",
      "Model 4, Epoch 480, Loss: 0.4112, MSE: 0.4112, L1: 0.7083, L0: 7.1174\n",
      "Model 0, Epoch 490, Loss: 0.0607, MSE: 0.0607, L1: 0.2433, L0: 227.3989\n",
      "Model 1, Epoch 490, Loss: 0.1061, MSE: 0.1061, L1: 0.4104, L0: 93.5530\n",
      "Model 2, Epoch 490, Loss: 0.1825, MSE: 0.1825, L1: 0.5446, L0: 52.7801\n",
      "Model 3, Epoch 490, Loss: 0.2958, MSE: 0.2958, L1: 0.6495, L0: 10.9526\n",
      "Model 4, Epoch 490, Loss: 0.4114, MSE: 0.4114, L1: 0.7076, L0: 7.0983\n"
     ]
    }
   ],
   "source": [
    "\n",
    "sae = man.BatchedSAE_Updated(input_dim=512, n_models=5, width_ratio=4).to(device)\n",
    "l1_lams = torch.tensor([1e1, 2e1, 3e1, 4e1, 5e1]).to(device)\n",
    "# train the model\n",
    "result = sae.fit(train_data = batched_acts, test_data=torch.tensor([]), l1_lam=l1_lams)"
   ]
  },
  {
   "cell_type": "code",
   "execution_count": 210,
   "id": "5c837937",
   "metadata": {},
   "outputs": [
    {
     "name": "stdout",
     "output_type": "stream",
     "text": [
      "Results for L1 lambda 10.0:\n",
      "MSE: 0.0614, L0: 227.7622\n",
      "Results for L1 lambda 20.0:\n",
      "MSE: 0.1061, L0: 92.3322\n",
      "Results for L1 lambda 30.0:\n",
      "MSE: 0.1819, L0: 57.9388\n",
      "Results for L1 lambda 40.0:\n",
      "MSE: 0.2874, L0: 12.7754\n",
      "Results for L1 lambda 50.0:\n",
      "MSE: 0.4019, L0: 7.5076\n"
     ]
    }
   ],
   "source": [
    "for results in result:\n",
    "    print(f\"Results for L1 lambda {results['L1 lambda']}:\")\n",
    "    print(f\"MSE: {results['mse']:.4f}, L0: {results['L0']:.4f}\")"
   ]
  },
  {
   "cell_type": "code",
   "execution_count": 211,
   "id": "d83ea43d",
   "metadata": {},
   "outputs": [
    {
     "data": {
      "text/plain": [
       "torch.Size([5, 10215, 512])"
      ]
     },
     "execution_count": 211,
     "metadata": {},
     "output_type": "execute_result"
    }
   ],
   "source": [
    "batched_acts.shape"
   ]
  },
  {
   "cell_type": "code",
   "execution_count": 8,
   "id": "42ea96fc",
   "metadata": {},
   "outputs": [],
   "source": [
    "_, _, feats, recon = sae(batched_acts[:, :60, :])  # Test the model with the first sample"
   ]
  },
  {
   "cell_type": "code",
   "execution_count": 213,
   "id": "5dac333f",
   "metadata": {},
   "outputs": [
    {
     "data": {
      "text/plain": [
       "torch.Size([5, 60, 2048])"
      ]
     },
     "execution_count": 213,
     "metadata": {},
     "output_type": "execute_result"
    }
   ],
   "source": [
    "feats.shape"
   ]
  },
  {
   "cell_type": "code",
   "execution_count": 214,
   "id": "d907b36f",
   "metadata": {},
   "outputs": [],
   "source": [
    "feats[0,0].shape\n",
    "def determine_l1(features):\n",
    "    # Calculate the L0 norm (number of non-zero elements)\n",
    "    l0 = torch.count_nonzero(features, dim=1).float().mean().item()\n",
    "    return l0"
   ]
  },
  {
   "cell_type": "code",
   "execution_count": 215,
   "id": "302015da",
   "metadata": {},
   "outputs": [
    {
     "data": {
      "text/plain": [
       "7.216667175292969"
      ]
     },
     "execution_count": 215,
     "metadata": {},
     "output_type": "execute_result"
    }
   ],
   "source": [
    "determine_l1(feats[4])"
   ]
  },
  {
   "cell_type": "code",
   "execution_count": 216,
   "id": "270cd0ee",
   "metadata": {},
   "outputs": [
    {
     "data": {
      "text/plain": [
       "torch.Size([5, 60, 2048])"
      ]
     },
     "execution_count": 216,
     "metadata": {},
     "output_type": "execute_result"
    }
   ],
   "source": [
    "feats.shape"
   ]
  },
  {
   "cell_type": "code",
   "execution_count": 217,
   "id": "7988c926",
   "metadata": {},
   "outputs": [
    {
     "name": "stdout",
     "output_type": "stream",
     "text": [
      "torch.Size([60, 2048])\n"
     ]
    },
    {
     "data": {
      "text/plain": [
       "tensor([  0, 113,   0, 114], device='cuda:0')"
      ]
     },
     "execution_count": 217,
     "metadata": {},
     "output_type": "execute_result"
    }
   ],
   "source": [
    "print(feats[0].shape)\n",
    "\n",
    "inputs[0]"
   ]
  },
  {
   "cell_type": "code",
   "execution_count": 13,
   "id": "36f090c5",
   "metadata": {},
   "outputs": [],
   "source": [
    "#current date time\n",
    "from datetime import datetime\n",
    "now = datetime.now()\n",
    "date_time_str = now.strftime(\"%Y-%m-%d_%H-%M-%S\")\n",
    "torch.save(sae.state_dict(), f\"sae_model_small_batch_{date_time_str}.pth\")"
   ]
  },
  {
   "cell_type": "code",
   "execution_count": 12,
   "id": "797bd057",
   "metadata": {},
   "outputs": [
    {
     "ename": "FileNotFoundError",
     "evalue": "[Errno 2] No such file or directory: 'sae_model_small_batch.pth'",
     "output_type": "error",
     "traceback": [
      "\u001b[31m---------------------------------------------------------------------------\u001b[39m",
      "\u001b[31mFileNotFoundError\u001b[39m                         Traceback (most recent call last)",
      "\u001b[36mCell\u001b[39m\u001b[36m \u001b[39m\u001b[32mIn[12]\u001b[39m\u001b[32m, line 1\u001b[39m\n\u001b[32m----> \u001b[39m\u001b[32m1\u001b[39m sae_dict = \u001b[43mtorch\u001b[49m\u001b[43m.\u001b[49m\u001b[43mload\u001b[49m\u001b[43m(\u001b[49m\u001b[33;43m\"\u001b[39;49m\u001b[33;43msae_model_small_batch.pth\u001b[39;49m\u001b[33;43m\"\u001b[39;49m\u001b[43m,\u001b[49m\u001b[43m \u001b[49m\u001b[43mmap_location\u001b[49m\u001b[43m=\u001b[49m\u001b[43mdevice\u001b[49m\u001b[43m)\u001b[49m\n\u001b[32m      2\u001b[39m sae = man.BatchedSAE_Updated(input_dim=\u001b[32m512\u001b[39m, n_models=\u001b[32m5\u001b[39m, width_ratio=\u001b[32m4\u001b[39m).to(device)\n\u001b[32m      3\u001b[39m sae.load_state_dict(sae_dict)\n",
      "\u001b[36mFile \u001b[39m\u001b[32m~/p/FeatureManifolds/.venv/lib/python3.12/site-packages/torch/serialization.py:1479\u001b[39m, in \u001b[36mload\u001b[39m\u001b[34m(f, map_location, pickle_module, weights_only, mmap, **pickle_load_args)\u001b[39m\n\u001b[32m   1476\u001b[39m \u001b[38;5;28;01mif\u001b[39;00m \u001b[33m\"\u001b[39m\u001b[33mencoding\u001b[39m\u001b[33m\"\u001b[39m \u001b[38;5;129;01mnot\u001b[39;00m \u001b[38;5;129;01min\u001b[39;00m pickle_load_args.keys():\n\u001b[32m   1477\u001b[39m     pickle_load_args[\u001b[33m\"\u001b[39m\u001b[33mencoding\u001b[39m\u001b[33m\"\u001b[39m] = \u001b[33m\"\u001b[39m\u001b[33mutf-8\u001b[39m\u001b[33m\"\u001b[39m\n\u001b[32m-> \u001b[39m\u001b[32m1479\u001b[39m \u001b[38;5;28;01mwith\u001b[39;00m \u001b[43m_open_file_like\u001b[49m\u001b[43m(\u001b[49m\u001b[43mf\u001b[49m\u001b[43m,\u001b[49m\u001b[43m \u001b[49m\u001b[33;43m\"\u001b[39;49m\u001b[33;43mrb\u001b[39;49m\u001b[33;43m\"\u001b[39;49m\u001b[43m)\u001b[49m \u001b[38;5;28;01mas\u001b[39;00m opened_file:\n\u001b[32m   1480\u001b[39m     \u001b[38;5;28;01mif\u001b[39;00m _is_zipfile(opened_file):\n\u001b[32m   1481\u001b[39m         \u001b[38;5;66;03m# The zipfile reader is going to advance the current file position.\u001b[39;00m\n\u001b[32m   1482\u001b[39m         \u001b[38;5;66;03m# If we want to actually tail call to torch.jit.load, we need to\u001b[39;00m\n\u001b[32m   1483\u001b[39m         \u001b[38;5;66;03m# reset back to the original position.\u001b[39;00m\n\u001b[32m   1484\u001b[39m         orig_position = opened_file.tell()\n",
      "\u001b[36mFile \u001b[39m\u001b[32m~/p/FeatureManifolds/.venv/lib/python3.12/site-packages/torch/serialization.py:759\u001b[39m, in \u001b[36m_open_file_like\u001b[39m\u001b[34m(name_or_buffer, mode)\u001b[39m\n\u001b[32m    757\u001b[39m \u001b[38;5;28;01mdef\u001b[39;00m\u001b[38;5;250m \u001b[39m\u001b[34m_open_file_like\u001b[39m(name_or_buffer: FileLike, mode: \u001b[38;5;28mstr\u001b[39m) -> _opener[IO[\u001b[38;5;28mbytes\u001b[39m]]:\n\u001b[32m    758\u001b[39m     \u001b[38;5;28;01mif\u001b[39;00m _is_path(name_or_buffer):\n\u001b[32m--> \u001b[39m\u001b[32m759\u001b[39m         \u001b[38;5;28;01mreturn\u001b[39;00m \u001b[43m_open_file\u001b[49m\u001b[43m(\u001b[49m\u001b[43mname_or_buffer\u001b[49m\u001b[43m,\u001b[49m\u001b[43m \u001b[49m\u001b[43mmode\u001b[49m\u001b[43m)\u001b[49m\n\u001b[32m    760\u001b[39m     \u001b[38;5;28;01melse\u001b[39;00m:\n\u001b[32m    761\u001b[39m         \u001b[38;5;28;01mif\u001b[39;00m \u001b[33m\"\u001b[39m\u001b[33mw\u001b[39m\u001b[33m\"\u001b[39m \u001b[38;5;129;01min\u001b[39;00m mode:\n",
      "\u001b[36mFile \u001b[39m\u001b[32m~/p/FeatureManifolds/.venv/lib/python3.12/site-packages/torch/serialization.py:740\u001b[39m, in \u001b[36m_open_file.__init__\u001b[39m\u001b[34m(self, name, mode)\u001b[39m\n\u001b[32m    739\u001b[39m \u001b[38;5;28;01mdef\u001b[39;00m\u001b[38;5;250m \u001b[39m\u001b[34m__init__\u001b[39m(\u001b[38;5;28mself\u001b[39m, name: Union[\u001b[38;5;28mstr\u001b[39m, os.PathLike[\u001b[38;5;28mstr\u001b[39m]], mode: \u001b[38;5;28mstr\u001b[39m) -> \u001b[38;5;28;01mNone\u001b[39;00m:\n\u001b[32m--> \u001b[39m\u001b[32m740\u001b[39m     \u001b[38;5;28msuper\u001b[39m().\u001b[34m__init__\u001b[39m(\u001b[38;5;28;43mopen\u001b[39;49m\u001b[43m(\u001b[49m\u001b[43mname\u001b[49m\u001b[43m,\u001b[49m\u001b[43m \u001b[49m\u001b[43mmode\u001b[49m\u001b[43m)\u001b[49m)\n",
      "\u001b[31mFileNotFoundError\u001b[39m: [Errno 2] No such file or directory: 'sae_model_small_batch.pth'"
     ]
    }
   ],
   "source": [
    "sae_dict = torch.load(\"sae_model_small_batch.pth\", map_location=device)\n",
    "sae = man.BatchedSAE_Updated(input_dim=512, n_models=5, width_ratio=4).to(device)\n",
    "sae.load_state_dict(sae_dict)"
   ]
  },
  {
   "cell_type": "code",
   "execution_count": 9,
   "id": "19cf5bd9",
   "metadata": {},
   "outputs": [
    {
     "data": {
      "image/png": "[encoded data removed]",
      "text/plain": [
       "<Figure size 1000x1500 with 2 Axes>"
      ]
     },
     "metadata": {},
     "output_type": "display_data"
    }
   ],
   "source": [
    "from matplotlib import pyplot as plt\n",
    "\n",
    "feat = feats[3].detach().cpu().numpy()  # Convert to numpy for further processing if needed\n",
    "plt.figure(figsize=(10, 15))\n",
    "plt.imshow(feat, cmap='viridis', aspect='auto', interpolation='None')\n",
    "#make y axis intergers\n",
    "plt.yticks(ticks=np.arange(feat.shape[0]), labels=np.arange(feat.shape[0]))\n",
    "plt.colorbar()\n",
    "plt.title(\"Feature Map\")\n",
    "plt.xlabel(\"Feature Dimension\")\n",
    "plt.ylabel(\"Sample Index\")\n",
    "plt.show()"
   ]
  },
  {
   "cell_type": "code",
   "execution_count": 11,
   "id": "0f95c555",
   "metadata": {},
   "outputs": [],
   "source": [
    "_, _, feats, recon = sae(batched_acts)  # Test the model with the first sample"
   ]
  },
  {
   "cell_type": "code",
   "execution_count": 12,
   "id": "af26872a",
   "metadata": {},
   "outputs": [
    {
     "data": {
      "text/plain": [
       "tensor([0.9871, 0.9811, 0.9684, 0.9586, 0.9433], device='cuda:0',\n",
       "       grad_fn=<MeanBackward1>)"
      ]
     },
     "execution_count": 12,
     "metadata": {},
     "output_type": "execute_result"
    }
   ],
   "source": [
    "import torch.nn.functional as F\n",
    "\n",
    "cos_sim = F.cosine_similarity(recon, batched_acts, dim=2)\n",
    "\n",
    "mean_cos_sim = cos_sim.mean(dim=1)\n",
    "\n",
    "mean_cos_sim"
   ]
  },
  {
   "cell_type": "code",
   "execution_count": 13,
   "id": "de1bf59a",
   "metadata": {},
   "outputs": [],
   "source": [
    "batched_acts = batched_acts.cpu().numpy()\n",
    "recon = recon.detach().cpu().numpy()"
   ]
  },
  {
   "cell_type": "code",
   "execution_count": 14,
   "id": "6210544d",
   "metadata": {},
   "outputs": [
    {
     "data": {
      "text/plain": [
       "array([0.93493944, 0.8987832 , 0.85453653, 0.8067285 , 0.7546353 ],\n",
       "      dtype=float32)"
      ]
     },
     "execution_count": 14,
     "metadata": {},
     "output_type": "execute_result"
    }
   ],
   "source": [
    "dot = np.einsum('msd,msd->ms', recon, batched_acts)\n",
    "act_norm_sq = np.einsum('msd,msd->ms', batched_acts, batched_acts)\n",
    "alpha = (dot / act_norm_sq + 1e-8)[:,:,None]\n",
    "proj = alpha * batched_acts\n",
    "\n",
    "mean_alpha = alpha.squeeze(-1).mean(axis=1)\n",
    "\n",
    "mean_alpha"
   ]
  }
 ],
 "metadata": {
  "kernelspec": {
   "display_name": "featuremanifolds",
   "language": "python",
   "name": "python3"
  },
  "language_info": {
   "codemirror_mode": {
    "name": "ipython",
    "version": 3
   },
   "file_extension": ".py",
   "mimetype": "text/x-python",
   "name": "python",
   "nbconvert_exporter": "python",
   "pygments_lexer": "ipython3",
   "version": "3.12.3"
  }
 },
 "nbformat": 4,
 "nbformat_minor": 5
}
