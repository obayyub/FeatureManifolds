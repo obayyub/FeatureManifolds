{
 "cells": [
  {
   "cell_type": "code",
   "execution_count": 1,
   "id": "cafe1c7c",
   "metadata": {},
   "outputs": [
    {
     "name": "stderr",
     "output_type": "stream",
     "text": [
      "/home/omar-ayyub/p/FeatureManifolds/.venv/lib/python3.12/site-packages/tqdm/auto.py:21: TqdmWarning: IProgress not found. Please update jupyter and ipywidgets. See https://ipywidgets.readthedocs.io/en/stable/user_install.html\n",
      "  from .autonotebook import tqdm as notebook_tqdm\n"
     ]
    }
   ],
   "source": [
    "from sae_lens import SAE\n",
    "import torch\n",
    "from datasets import load_dataset\n",
    "from transformer_lens import HookedTransformer\n",
    "import os\n",
    "import plotly.express as px\n",
    "from tqdm import tqdm"
   ]
  },
  {
   "cell_type": "code",
   "execution_count": 2,
   "id": "bfc2af01",
   "metadata": {},
   "outputs": [
    {
     "name": "stderr",
     "output_type": "stream",
     "text": [
      "/home/omar-ayyub/p/FeatureManifolds/.venv/lib/python3.12/site-packages/sae_lens/saes/sae.py:249: UserWarning: \n",
      "This SAE has non-empty model_from_pretrained_kwargs. \n",
      "For optimal performance, load the model like so:\n",
      "model = HookedSAETransformer.from_pretrained_no_processing(..., **cfg.model_from_pretrained_kwargs)\n",
      "  warnings.warn(\n"
     ]
    }
   ],
   "source": [
    "DEVICE = \"cuda\" if torch.cuda.is_available() else \"cpu\"\n",
    "\n",
    "sae = SAE.from_pretrained(\n",
    "    release=\"gpt2-small-res-jb\",\n",
    "    sae_id=f\"blocks.7.hook_resid_pre\",\n",
    "    device=DEVICE,\n",
    ")"
   ]
  },
  {
   "cell_type": "code",
   "execution_count": 3,
   "id": "34eddfb2",
   "metadata": {},
   "outputs": [
    {
     "name": "stdout",
     "output_type": "stream",
     "text": [
      "24576 dictionary atoms\n",
      "768 mlp neurons\n"
     ]
    }
   ],
   "source": [
    "decoder_matrix = sae.W_dec\n",
    "print(decoder_matrix.shape[0], \"dictionary atoms\")\n",
    "print(decoder_matrix.shape[1], \"mlp neurons\")"
   ]
  },
  {
   "cell_type": "code",
   "execution_count": 4,
   "id": "66c72726",
   "metadata": {},
   "outputs": [],
   "source": [
    "#delete model and sae to save memory\n",
    "del sae"
   ]
  },
  {
   "cell_type": "code",
   "execution_count": 5,
   "id": "81428100",
   "metadata": {},
   "outputs": [
    {
     "name": "stderr",
     "output_type": "stream",
     "text": [
      "/tmp/ipykernel_296057/3960086486.py:59: UserWarning: To copy construct from a tensor, it is recommended to use sourceTensor.detach().clone() or sourceTensor.detach().clone().requires_grad_(True), rather than torch.tensor(sourceTensor).\n",
      "  all_sims=torch.tensor(similarity_matrix),\n",
      "100%|██████████| 24576/24576 [00:00<00:00, 2657365.69it/s]"
     ]
    },
    {
     "name": "stdout",
     "output_type": "stream",
     "text": [
      "Saved clusters to clusters_2_sim_cutoff_0.5.pkl\n"
     ]
    },
    {
     "name": "stderr",
     "output_type": "stream",
     "text": [
      "\n"
     ]
    }
   ],
   "source": [
    "import torch.nn.functional as F\n",
    "import pickle\n",
    "from tqdm import tqdm\n",
    "\n",
    "def graph_cluster_sims(\n",
    "        all_sims, top_k, sim_cutoff=0.5, prune_clusters=False\n",
    "):\n",
    "    \"\"\"\n",
    "    Create a graph from similarity scores, keeping only the top_k neighbors\n",
    "    \"\"\"\n",
    "    near_neighbors = torch.topk(all_sims, k=top_k, dim=1)\n",
    "\n",
    "    graph = [[] for _ in range(all_sims.shape[0])]\n",
    "\n",
    "    for i in range(all_sims.shape[0]):\n",
    "        top_indices = near_neighbors.indices[i]\n",
    "        top_sims = near_neighbors.values[i]\n",
    "        top_indices = top_indices[top_sims > sim_cutoff]\n",
    "        graph[i] = top_indices.tolist()\n",
    "\n",
    "    for i in tqdm(range(all_sims.shape[0])):\n",
    "        for j in graph[i]:\n",
    "            if i not in graph[j]:\n",
    "                graph[j].append(i)\n",
    "\n",
    "    visited = [False] * all_sims.shape[0]\n",
    "    components = []\n",
    "    for i in range(all_sims.shape[0]):\n",
    "        if visited[i]:\n",
    "            continue\n",
    "        component = []\n",
    "        stack = [i]\n",
    "        while stack:\n",
    "            node = stack.pop()\n",
    "            if visited[node]:\n",
    "                continue\n",
    "            visited[node] = True\n",
    "            component.append(node)\n",
    "            stack.extend(graph[node])\n",
    "        components.append(component)\n",
    "\n",
    "    if prune_clusters:\n",
    "        threshold = 1000\n",
    "        components = [c for c in components if len(c) < threshold and len(c) > 1]\n",
    "\n",
    "    with open(\n",
    "        f\"clusters_{top_k}_sim_cutoff_{sim_cutoff}.pkl\", \"wb\"\n",
    "    ) as f:\n",
    "        pickle.dump(components, f)\n",
    "    print(f\"Saved clusters to clusters_{top_k}_sim_cutoff_{sim_cutoff}.pkl\")\n",
    "\n",
    "similarity_matrix = decoder_matrix @ decoder_matrix.T\n",
    "similarity_matrix.fill_diagonal_(0)\n",
    "\n",
    "model_name = \"gpt2-small-res-jb\"\n",
    "layer = 7\n",
    "\n",
    "graph_cluster_sims(\n",
    "    all_sims=torch.tensor(similarity_matrix),\n",
    "    top_k=2,\n",
    "    sim_cutoff=0.5,\n",
    "    prune_clusters=True\n",
    ")"
   ]
  }
 ],
 "metadata": {
  "kernelspec": {
   "display_name": "featuremanifolds",
   "language": "python",
   "name": "python3"
  },
  "language_info": {
   "codemirror_mode": {
    "name": "ipython",
    "version": 3
   },
   "file_extension": ".py",
   "mimetype": "text/x-python",
   "name": "python",
   "nbconvert_exporter": "python",
   "pygments_lexer": "ipython3",
   "version": "3.12.3"
  }
 },
 "nbformat": 4,
 "nbformat_minor": 5
}
